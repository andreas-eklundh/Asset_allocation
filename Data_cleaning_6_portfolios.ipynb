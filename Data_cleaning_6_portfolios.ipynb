{
 "cells": [
  {
   "cell_type": "code",
   "execution_count": 2,
   "metadata": {},
   "outputs": [],
   "source": [
    "# packages\n",
    "import numpy as np\n",
    "import matplotlib.pyplot as plt\n",
    "import pandas as pd\n",
    "import os"
   ]
  },
  {
   "cell_type": "markdown",
   "metadata": {},
   "source": [
    "### Kenneth French 'Market Equity'-data. \n",
    "ME is market cap at the end of the previous month. \n",
    "PRIOR_RET is from -12 to - 2.\n",
    "\n",
    "$\\textbf{Construction:}$ The portfolios, which are constructed monthly, are the intersections of 2 portfolios formed on size (market equity, ME) and 3 portfolios formed on prior (2-12) return. The monthly size breakpoint is the median NYSE market equity. The monthly prior (2-12) return breakpoints are the 30th and 70th NYSE percentiles.\n",
    "\n",
    "$\\textbf{Stocks:}$ The six portfolios constructed each month include NYSE, AMEX, and NASDAQ stocks with prior return data. To be included in a portfolio for month t (formed at the end of month t-1), a stock must have a price for the end of month t-13 and a good return for t-2. In addition, any missing returns from t-12 to t-3 must be -99.0, CRSP's code for a missing price. Each included stock also must have ME for the end of month t-1."
   ]
  },
  {
   "cell_type": "markdown",
   "metadata": {},
   "source": [
    "$\\textbf{Column Names:}$\n",
    "- SMALL LoPRIOR: \n",
    "\n",
    "SMALLer firms (lower market equity than NYSE market median) and lower returns (beneath 30th prior (2-12) percentile) in the PRIOR period.\n",
    "- ME1 PRIOR2: \n",
    "\n",
    "SMALLer firms (lower market equity than NYSE market median) and medium returns (between 30th and 70th prior (2-12) percentile) in the PRIOR period.\n",
    "- SMALL HiPRIOR: \n",
    "\n",
    "SMALLer firms (lower market equity than NYSE market median) and higher returns (above 70th prior (2-12) percentile)in the PRIOR period.\n",
    "- BIG LoPRIOR: \n",
    "\n",
    "BIGer firms (lower market equity than NYSE market median) and lower returns (beneath 30th prior (2-12) percentile) in the PRIOR period.\n",
    "- ME2 PRIOR2: \n",
    "\n",
    "BIGer firms (lower market equity than NYSE market median) and medium returns (between 30th and 70th prior (2-12) percentile) in the PRIOR period.\n",
    "- BIG HiPRIOR: \n",
    "\n",
    "BIGer firms (lower market equity than NYSE market median) and higher returns (above 70th prior (2-12) percentile) in the PRIOR period."
   ]
  },
  {
   "cell_type": "markdown",
   "metadata": {},
   "source": [
    "### Average Value Weighted Returns -- Monthly:"
   ]
  },
  {
   "cell_type": "code",
   "execution_count": 3,
   "metadata": {},
   "outputs": [],
   "source": [
    "pf_6_vwr = pd.read_csv(\"Data/6_Portfolios_ME_Prior_12_2.csv\", skiprows=11, nrows = 1171)\n",
    "pf_6_vwr = pf_6_vwr.rename(columns = {\"Unnamed: 0\" : \"Date\"})\n",
    "pf_6_vwr[\"Date\"] = pd.to_datetime(pf_6_vwr[\"Date\"], format=\"%Y%m\") + pd.offsets.MonthEnd()\n",
    "pf_6_vwr = pf_6_vwr[(pf_6_vwr[\"Date\"]<=pd.Timestamp('2023-12-31')) & (pf_6_vwr[\"Date\"]>=pd.Timestamp('1927-01-01'))] \n",
    "pf_6_vwr = pf_6_vwr.set_index(\"Date\").sort_index(ascending=False)\n",
    "#pf_6_vwr = pf_6_vwr[['SMALL LoPRIOR', 'SMALL HiPRIOR', 'BIG LoPRIOR', 'BIG HiPRIOR', 'ME1 PRIOR2', 'ME2 PRIOR2']]"
   ]
  },
  {
   "cell_type": "code",
   "execution_count": 4,
   "metadata": {},
   "outputs": [
    {
     "name": "stdout",
     "output_type": "stream",
     "text": [
      "Series([], dtype: int64)\n"
     ]
    }
   ],
   "source": [
    "missing_values_vwr = [-99.99, -999]\n",
    "missing_count_vwr = pf_6_vwr.isin(missing_values_vwr).sum()\n",
    "missing_count_vwr = missing_count_vwr[missing_count_vwr > 0]\n",
    "\n",
    "#na_count_vwr = pf_6_vwr.isna().sum()\n",
    "#empty_count_vwr = (pf_6_vwr == '').sum()\n",
    "\n",
    "print(missing_count_vwr)\n",
    "#print(missing_count_vwr, na_count_vwr, empty_count_vwr)"
   ]
  },
  {
   "cell_type": "markdown",
   "metadata": {},
   "source": [
    "### Number of Firms in Portfolios - Monthly:"
   ]
  },
  {
   "cell_type": "code",
   "execution_count": 5,
   "metadata": {},
   "outputs": [],
   "source": [
    "pf_6_nf = pd.read_csv(\"Data/6_Portfolios_ME_Prior_12_2.csv\", skiprows=2563, nrows = 1171)\n",
    "pf_6_nf = pf_6_nf.rename(columns = {\"Unnamed: 0\" : \"Date\"})\n",
    "pf_6_nf[\"Date\"] = pd.to_datetime(pf_6_nf[\"Date\"], format=\"%Y%m\") + pd.offsets.MonthEnd()\n",
    "pf_6_nf = pf_6_nf[(pf_6_nf[\"Date\"]<=pd.Timestamp('2023-12-31')) & (pf_6_nf[\"Date\"]>=pd.Timestamp('1927-01-01'))] \n",
    "pf_6_nf = pf_6_nf.set_index(\"Date\").sort_index(ascending=False)"
   ]
  },
  {
   "cell_type": "code",
   "execution_count": 6,
   "metadata": {},
   "outputs": [
    {
     "name": "stdout",
     "output_type": "stream",
     "text": [
      "Series([], dtype: int64)\n"
     ]
    }
   ],
   "source": [
    "missing_values_nf = [-99.99, -999]\n",
    "missing_count_nf = pf_6_nf.isin(missing_values_nf).sum()\n",
    "missing_count_nf = missing_count_nf[missing_count_nf > 0]\n",
    "\n",
    "#na_count_nf = pf_6_nf.isna().sum()\n",
    "#empty_count_nf = (pf_6_nf == '').sum()\n",
    "\n",
    "print(missing_count_nf)\n",
    "#print(missing_count_nf, missing_count_nf, empty_count_nf)"
   ]
  },
  {
   "cell_type": "markdown",
   "metadata": {},
   "source": [
    "### Average Firm Size - Monthly:"
   ]
  },
  {
   "cell_type": "code",
   "execution_count": 7,
   "metadata": {},
   "outputs": [],
   "source": [
    "pf_6_afs = pd.read_csv(\"Data/6_Portfolios_ME_Prior_12_2.csv\", skiprows=3738, nrows = 1171)\n",
    "pf_6_afs = pf_6_afs.rename(columns = {\"Unnamed: 0\" : \"Date\"})\n",
    "pf_6_afs[\"Date\"] = pd.to_datetime(pf_6_afs[\"Date\"], format=\"%Y%m\") + pd.offsets.MonthEnd()\n",
    "pf_6_afs = pf_6_afs[(pf_6_afs[\"Date\"]<=pd.Timestamp('2023-12-31')) & (pf_6_afs[\"Date\"]>=pd.Timestamp('1927-01-01'))] \n",
    "pf_6_afs = pf_6_afs.set_index(\"Date\").sort_index(ascending=False)"
   ]
  },
  {
   "cell_type": "code",
   "execution_count": 8,
   "metadata": {},
   "outputs": [
    {
     "name": "stdout",
     "output_type": "stream",
     "text": [
      "Series([], dtype: int64)\n"
     ]
    }
   ],
   "source": [
    "missing_values_afs = [-99.99, -999]\n",
    "missing_count_afs = pf_6_afs.isin(missing_values_afs).sum()\n",
    "missing_count_afs = missing_count_afs[missing_count_afs > 0]\n",
    "\n",
    "#na_count_afs = pf_6_afs.isna().sum()\n",
    "#empty_count_afs = (pf_6_afs == '').sum()\n",
    "\n",
    "print(missing_count_afs)\n",
    "#print(missing_count_afs, missing_count_afs, empty_count_afs)"
   ]
  },
  {
   "cell_type": "markdown",
   "metadata": {},
   "source": [
    "Callculate entire stock market return:"
   ]
  },
  {
   "cell_type": "code",
   "execution_count": 9,
   "metadata": {},
   "outputs": [],
   "source": [
    "market_cap = pf_6_nf.multiply(pf_6_afs)\n",
    "total_market_cap = market_cap.sum(axis=1)\n",
    "weights = market_cap.divide(total_market_cap, axis=0)\n",
    "weighted_returns = pf_6_vwr.multiply(weights)\n",
    "total_market_return = weighted_returns.sum(axis=1)\n",
    "pf_6_returns = pf_6_vwr.copy()\n",
    "pf_6_returns['Market Return'] = weighted_returns.sum(axis=1).round(2)"
   ]
  },
  {
   "cell_type": "markdown",
   "metadata": {},
   "source": [
    "Gem rensede filer:"
   ]
  },
  {
   "cell_type": "code",
   "execution_count": 17,
   "metadata": {},
   "outputs": [],
   "source": [
    "pf_6_returns.sort_index(ascending=True, inplace=True)"
   ]
  },
  {
   "cell_type": "code",
   "execution_count": 19,
   "metadata": {},
   "outputs": [],
   "source": [
    "pf_6_returns.to_csv(\"Data_clean/6_Portfolios_ME_Prior_12_2_returns.csv\")\n",
    "#pf_6_nf.to_csv(\"Data_clean/6_Portfolios_ME_Prior_12_2_nf.csv\")\n",
    "#pf_6_afs.to_csv(\"Data_clean/6_Portfolios_ME_Prior_12_2_afs.csv\")"
   ]
  }
 ],
 "metadata": {
  "kernelspec": {
   "display_name": "Python 3",
   "language": "python",
   "name": "python3"
  },
  "language_info": {
   "codemirror_mode": {
    "name": "ipython",
    "version": 3
   },
   "file_extension": ".py",
   "mimetype": "text/x-python",
   "name": "python",
   "nbconvert_exporter": "python",
   "pygments_lexer": "ipython3",
   "version": "3.12.6"
  }
 },
 "nbformat": 4,
 "nbformat_minor": 2
}
