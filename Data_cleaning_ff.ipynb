{
 "cells": [
  {
   "cell_type": "code",
   "execution_count": 2,
   "metadata": {},
   "outputs": [],
   "source": [
    "# packages\n",
    "import numpy as np\n",
    "import matplotlib.pyplot as plt\n",
    "import pandas as pd\n",
    "import os"
   ]
  },
  {
   "cell_type": "code",
   "execution_count": 3,
   "metadata": {},
   "outputs": [],
   "source": [
    "# Note i have cleaned this from yearly data etc. \n",
    "ff_factors = pd.read_csv(\"Data/F-F_Research_Data_Factors.csv\", skiprows=3, nrows = 1177)\n",
    "ff_factors = ff_factors.rename(columns = {\"Unnamed: 0\" : \"Date\"})\n",
    "ff_factors[\"Date\"] = pd.to_datetime(ff_factors[\"Date\"], format=\"%Y%m\") + pd.offsets.MonthEnd()\n",
    "ff_factors = ff_factors[(ff_factors[\"Date\"]<=pd.Timestamp('2023-12-31')) & (ff_factors[\"Date\"]>=pd.Timestamp('1927-01-01'))] # restrict to period for analysis.\n",
    "ff_factors = ff_factors.set_index(\"Date\")"
   ]
  },
  {
   "cell_type": "code",
   "execution_count": 4,
   "metadata": {},
   "outputs": [],
   "source": [
    "ff_factors.to_csv(\"Data_clean/FF_cleaned.csv\")"
   ]
  }
 ],
 "metadata": {
  "kernelspec": {
   "display_name": "Python 3",
   "language": "python",
   "name": "python3"
  },
  "language_info": {
   "codemirror_mode": {
    "name": "ipython",
    "version": 3
   },
   "file_extension": ".py",
   "mimetype": "text/x-python",
   "name": "python",
   "nbconvert_exporter": "python",
   "pygments_lexer": "ipython3",
   "version": "3.12.6"
  }
 },
 "nbformat": 4,
 "nbformat_minor": 2
}
