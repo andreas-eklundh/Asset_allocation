{
 "cells": [
  {
   "cell_type": "markdown",
   "metadata": {},
   "source": [
    "### Problem 2: Momentum factor\n",
    "Code and notes for subproblem 2: Farma-French Approach"
   ]
  },
  {
   "cell_type": "code",
   "execution_count": 636,
   "metadata": {},
   "outputs": [],
   "source": [
    "# packages and load data.\n",
    "import numpy as np\n",
    "import matplotlib.pyplot as plt\n",
    "import pandas as pd\n",
    "import Utils\n",
    "from scipy.optimize import minimize \n",
    "from sklearn.linear_model import LinearRegression as lm\n",
    "import statsmodels.api as sm\n",
    "import Backtest as bt   \n",
    "import matplotlib.dates as mdates\n",
    "\n",
    "FF = pd.read_csv(\"Data_clean/FF_cleaned.csv\")\n",
    "bond = pd.read_csv(\"Data_clean/bond_returns.csv\")\n",
    "FF[\"RF\"] = FF[\"RF\"] /100 \n",
    "MOMexp = pd.read_csv(\"Data_clean/6_Portfolios_ME_Prior_12_2_returns.csv\")\n",
    "MOMdep = pd.read_csv(\"Data_clean/25_Portfolios_ME_Prior_12_2_returns.csv\")\n",
    "MOMexp[\"Market Return\"] = MOMexp[\"Market Return\"] / 100\n",
    "MOMdep[\"Market Return\"] = MOMdep[\"Market Return\"] / 100\n",
    "\n",
    "# Keep only RF to create new SMB and MOM\n",
    "MOMexp = pd.merge(MOMexp, FF[[\"Date\",\"RF\"]], 'left', on = \"Date\")\n",
    "MOMdep = pd.merge(MOMdep, FF[[\"Date\",\"RF\"]], 'left', on = \"Date\")\n",
    "# MOMdep = pd.merge(MOMdep, bond[[\"Date\",\"10YrReturns\"]], 'left', on = 'Date' )"
   ]
  },
  {
   "cell_type": "markdown",
   "metadata": {},
   "source": [
    "### Format Data\n",
    "That is, we construct SMB and MOM in MOMexp"
   ]
  },
  {
   "cell_type": "code",
   "execution_count": 637,
   "metadata": {},
   "outputs": [],
   "source": [
    "MOMexp[\"SMB\"] = (MOMexp[\"SMALL LoPRIOR\"]  + MOMexp[\"ME1 PRIOR2\"] + \n",
    "                 MOMexp[\"SMALL HiPRIOR\"] ) / 3 + (MOMexp[\"BIG LoPRIOR\"]  - \n",
    "                            MOMexp[\"ME2 PRIOR2\"] + MOMexp[\"BIG HiPRIOR\"] ) / 3 \n",
    "\n",
    "MOMexp[\"MOM\"] = (MOMexp[\"SMALL HiPRIOR\"] + \n",
    "                 MOMexp[\"BIG HiPRIOR\"]) / 2 - (MOMexp[\"SMALL LoPRIOR\"] + MOMexp[\"BIG LoPRIOR\"]) / 2 \n",
    "# SMB and MOM is returns - normalize to fit returns on market\n",
    "MOMexp[\"MOM\"],MOMexp[\"SMB\"] =MOMexp[\"MOM\"] / 100,MOMexp[\"SMB\"] / 100\n",
    "\n",
    "MOMexp[\"Mkt-RF\"] = MOMexp[\"Market Return\"] - MOMexp[\"RF\"]\n",
    "# Clean data:\n",
    "MOMexp = MOMexp[[\"Date\",\"Mkt-RF\", \"SMB\", \"MOM\"]]"
   ]
  },
  {
   "cell_type": "markdown",
   "metadata": {},
   "source": [
    "### Regressions\n",
    "We are now ready to do the regressions."
   ]
  },
  {
   "cell_type": "code",
   "execution_count": 638,
   "metadata": {},
   "outputs": [],
   "source": [
    "# One could for starters mimic FF original analysis using RF DATA\n"
   ]
  },
  {
   "cell_type": "code",
   "execution_count": 639,
   "metadata": {},
   "outputs": [],
   "source": [
    "# Regression: \n",
    "def regression(dep,exp,rf):\n",
    "    var = dep.columns.drop([\"Date\", \"Market Return\", \"RF\"])\n",
    "    params = pd.DataFrame(columns =[\"a\", \"b\",\"s\",\"m\",\"R2/s(e)\"])\n",
    "    tvals =  pd.DataFrame(columns =[\"a\", \"b\",\"s\",\"m\", \"R2/s(e)\"])\n",
    "    X = np.array(exp).reshape(len(exp),len(exp.columns))\n",
    "    X = sm.add_constant(X)\n",
    "    for v in var:\n",
    "        y = np.array(dep[v]) / 100 - np.array(rf[\"RF\"])\n",
    "        linmod = sm.OLS(y,X)\n",
    "        results = linmod.fit()\n",
    "        coef = pd.DataFrame([np.append(results.params.round(2),results.rsquared.round(2))],\n",
    "                            columns=[\"a\", \"b\",\"s\",\"m\",\"R2/s(e)\"])\n",
    "        ttest = pd.DataFrame([np.append(results.tvalues.round(2),np.std(results.resid).round(4))],\n",
    "                            columns=[\"a\", \"b\",\"s\",\"m\", \"R2/s(e)\"])\n",
    "        params = pd.concat([params,coef], ignore_index=True)\n",
    "        tvals =  pd.concat([tvals,ttest], ignore_index=True)\n",
    "    return params, tvals\n",
    "\n",
    "# params # Relatively close - > So assume it is correct."
   ]
  },
  {
   "cell_type": "code",
   "execution_count": 640,
   "metadata": {},
   "outputs": [
    {
     "name": "stderr",
     "output_type": "stream",
     "text": [
      "C:\\Users\\andre\\AppData\\Local\\Temp\\ipykernel_19148\\1946023651.py:16: FutureWarning: The behavior of DataFrame concatenation with empty or all-NA entries is deprecated. In a future version, this will no longer exclude empty or all-NA columns when determining the result dtypes. To retain the old behavior, exclude the relevant entries before the concat operation.\n",
      "  params = pd.concat([params,coef], ignore_index=True)\n",
      "C:\\Users\\andre\\AppData\\Local\\Temp\\ipykernel_19148\\1946023651.py:17: FutureWarning: The behavior of DataFrame concatenation with empty or all-NA entries is deprecated. In a future version, this will no longer exclude empty or all-NA columns when determining the result dtypes. To retain the old behavior, exclude the relevant entries before the concat operation.\n",
      "  tvals =  pd.concat([tvals,ttest], ignore_index=True)\n",
      "C:\\Users\\andre\\AppData\\Local\\Temp\\ipykernel_19148\\1946023651.py:16: FutureWarning: The behavior of DataFrame concatenation with empty or all-NA entries is deprecated. In a future version, this will no longer exclude empty or all-NA columns when determining the result dtypes. To retain the old behavior, exclude the relevant entries before the concat operation.\n",
      "  params = pd.concat([params,coef], ignore_index=True)\n",
      "C:\\Users\\andre\\AppData\\Local\\Temp\\ipykernel_19148\\1946023651.py:17: FutureWarning: The behavior of DataFrame concatenation with empty or all-NA entries is deprecated. In a future version, this will no longer exclude empty or all-NA columns when determining the result dtypes. To retain the old behavior, exclude the relevant entries before the concat operation.\n",
      "  tvals =  pd.concat([tvals,ttest], ignore_index=True)\n",
      "C:\\Users\\andre\\AppData\\Local\\Temp\\ipykernel_19148\\1946023651.py:16: FutureWarning: The behavior of DataFrame concatenation with empty or all-NA entries is deprecated. In a future version, this will no longer exclude empty or all-NA columns when determining the result dtypes. To retain the old behavior, exclude the relevant entries before the concat operation.\n",
      "  params = pd.concat([params,coef], ignore_index=True)\n",
      "C:\\Users\\andre\\AppData\\Local\\Temp\\ipykernel_19148\\1946023651.py:17: FutureWarning: The behavior of DataFrame concatenation with empty or all-NA entries is deprecated. In a future version, this will no longer exclude empty or all-NA columns when determining the result dtypes. To retain the old behavior, exclude the relevant entries before the concat operation.\n",
      "  tvals =  pd.concat([tvals,ttest], ignore_index=True)\n",
      "C:\\Users\\andre\\AppData\\Local\\Temp\\ipykernel_19148\\1946023651.py:16: FutureWarning: The behavior of DataFrame concatenation with empty or all-NA entries is deprecated. In a future version, this will no longer exclude empty or all-NA columns when determining the result dtypes. To retain the old behavior, exclude the relevant entries before the concat operation.\n",
      "  params = pd.concat([params,coef], ignore_index=True)\n",
      "C:\\Users\\andre\\AppData\\Local\\Temp\\ipykernel_19148\\1946023651.py:17: FutureWarning: The behavior of DataFrame concatenation with empty or all-NA entries is deprecated. In a future version, this will no longer exclude empty or all-NA columns when determining the result dtypes. To retain the old behavior, exclude the relevant entries before the concat operation.\n",
      "  tvals =  pd.concat([tvals,ttest], ignore_index=True)\n",
      "C:\\Users\\andre\\AppData\\Local\\Temp\\ipykernel_19148\\1946023651.py:16: FutureWarning: The behavior of DataFrame concatenation with empty or all-NA entries is deprecated. In a future version, this will no longer exclude empty or all-NA columns when determining the result dtypes. To retain the old behavior, exclude the relevant entries before the concat operation.\n",
      "  params = pd.concat([params,coef], ignore_index=True)\n",
      "C:\\Users\\andre\\AppData\\Local\\Temp\\ipykernel_19148\\1946023651.py:17: FutureWarning: The behavior of DataFrame concatenation with empty or all-NA entries is deprecated. In a future version, this will no longer exclude empty or all-NA columns when determining the result dtypes. To retain the old behavior, exclude the relevant entries before the concat operation.\n",
      "  tvals =  pd.concat([tvals,ttest], ignore_index=True)\n"
     ]
    }
   ],
   "source": [
    "# Create output table: \n",
    "# Generate table:\n",
    "def out_array(param,dep,exp,rf):\n",
    "    p = param\n",
    "    params, tvals = regression(dep,exp,rf)\n",
    "    N = np.sqrt(len(params[p]))\n",
    "    parameter = np.array(params[p]).reshape((int(N),int(N)))\n",
    "    ttest = np.array(tvals[p]).reshape((int(N),int(N)))\n",
    "    tab = np.append(parameter,ttest,axis=1)\n",
    "    tabdf = pd.DataFrame(tab, columns=pd.MultiIndex.from_tuples(\n",
    "                          [(r\"\\beta/R^2\",\"LPrior\"), (\"\",\"2\"), (\"\",\"3\"), (\"\",\"4\"), (\"\",\"HPrior\"),\n",
    "                           (r\"t(\\beta)/s(e)\",\"LPrior\"), (\"\",\"2\"), (\"\",\"3\"), (\"\",\"4\"), (\"\",\"HPrior\")]))\n",
    "    tabdf = tabdf.set_index([pd.Index([param,\"\", \"\", \"\", \"\"]),pd.Index([\"S\", \"2\", \"3\", \"4\", \"B\"])])\n",
    "\n",
    "    return tabdf\n",
    "\n",
    "dep = MOMdep.copy()\n",
    "exp = MOMexp.copy()\n",
    "rf = FF.copy()\n",
    "exp = exp.drop(columns = \"Date\")\n",
    "rf = FF.drop(columns = \"Date\")\n",
    "\n",
    "a = out_array(\"a\", dep, exp, rf)\n",
    "b = out_array(\"b\", dep, exp, rf)\n",
    "s = out_array(\"s\", dep, exp, rf)\n",
    "m = out_array(\"m\", dep, exp, rf)\n",
    "R2_se = out_array(\"R2/s(e)\", dep, exp, rf)\n",
    "tab = pd.concat([a,b,s,m, R2_se])\n"
   ]
  },
  {
   "cell_type": "code",
   "execution_count": 641,
   "metadata": {},
   "outputs": [
    {
     "name": "stdout",
     "output_type": "stream",
     "text": [
      "\\begin{table}\n",
      "\\caption{Regression: R(t)-RF(t)=a + b [RM(t) - RF(t)] + sSMB(t) + m MOM(t) +e(t)}\n",
      "\\label{tab:regression}\n",
      "\\begin{tabular}{llrrrrrrrrrr}\n",
      "\\toprule\n",
      " &  & \\beta/R^2 & \\multicolumn{4}{r}{} & t(\\beta)/s(e) & \\multicolumn{4}{r}{} \\\\\n",
      " &  & LPrior & 2 & 3 & 4 & HPrior & LPrior & 2 & 3 & 4 & HPrior \\\\\n",
      "\\midrule\n",
      "a & S & -0.01 & -0.00 & -0.00 & -0.00 & -0.00 & -6.45 & -2.21 & -0.80 & -2.10 & -2.74 \\\\\n",
      "\\cline{1-12}\n",
      "\\multirow[t]{4}{*}{} & 2 & -0.01 & -0.00 & -0.00 & -0.00 & -0.00 & -10.10 & -3.66 & -2.37 & -2.81 & -5.73 \\\\\n",
      " & 3 & -0.00 & -0.00 & -0.00 & -0.00 & -0.00 & -6.35 & -1.60 & -1.51 & -3.46 & -4.42 \\\\\n",
      " & 4 & -0.00 & 0.00 & 0.00 & -0.00 & -0.00 & -2.41 & 0.36 & 0.83 & -0.57 & -2.19 \\\\\n",
      " & B & 0.00 & 0.00 & 0.00 & 0.00 & -0.00 & 0.53 & 4.12 & 3.26 & 2.05 & -2.45 \\\\\n",
      "\\cline{1-12}\n",
      "b & S & -0.94 & -0.90 & -0.84 & -0.75 & -0.75 & -18.29 & -17.67 & -17.47 & -13.59 & -14.47 \\\\\n",
      "\\cline{1-12}\n",
      "\\multirow[t]{4}{*}{} & 2 & -0.24 & -0.29 & -0.16 & -0.25 & -0.33 & -7.63 & -9.57 & -5.01 & -7.68 & -11.68 \\\\\n",
      " & 3 & 0.24 & 0.27 & 0.26 & 0.22 & 0.16 & 7.34 & 9.80 & 9.13 & 8.49 & 6.05 \\\\\n",
      " & 4 & 0.66 & 0.77 & 0.67 & 0.69 & 0.51 & 15.98 & 26.22 & 23.58 & 25.02 & 17.92 \\\\\n",
      " & B & 1.05 & 1.16 & 1.20 & 1.21 & 0.98 & 22.63 & 41.55 & 50.32 & 51.67 & 36.80 \\\\\n",
      "\\cline{1-12}\n",
      "s & S & 1.41 & 1.33 & 1.24 & 1.24 & 1.28 & 47.67 & 45.36 & 45.07 & 39.47 & 43.42 \\\\\n",
      "\\cline{1-12}\n",
      "\\multirow[t]{4}{*}{} & 2 & 0.98 & 0.91 & 0.79 & 0.88 & 1.03 & 54.37 & 53.14 & 43.22 & 46.98 & 62.98 \\\\\n",
      " & 3 & 0.65 & 0.55 & 0.52 & 0.53 & 0.67 & 35.41 & 35.38 & 32.48 & 35.52 & 43.09 \\\\\n",
      " & 4 & 0.39 & 0.22 & 0.24 & 0.25 & 0.42 & 16.53 & 13.17 & 14.76 & 15.64 & 26.25 \\\\\n",
      " & B & 0.05 & -0.13 & -0.14 & -0.15 & 0.07 & 1.75 & -7.96 & -10.64 & -10.90 & 4.80 \\\\\n",
      "\\cline{1-12}\n",
      "m & S & -0.41 & -0.14 & 0.01 & 0.25 & 0.53 & -17.45 & -5.87 & 0.24 & 10.14 & 22.47 \\\\\n",
      "\\cline{1-12}\n",
      "\\multirow[t]{4}{*}{} & 2 & -0.48 & -0.18 & 0.02 & 0.25 & 0.57 & -33.23 & -12.76 & 1.23 & 16.40 & 43.79 \\\\\n",
      " & 3 & -0.62 & -0.26 & -0.07 & 0.20 & 0.58 & -41.96 & -20.73 & -5.46 & 17.05 & 46.90 \\\\\n",
      " & 4 & -0.73 & -0.35 & -0.11 & 0.14 & 0.55 & -39.07 & -26.28 & -8.19 & 11.04 & 42.75 \\\\\n",
      " & B & -0.75 & -0.48 & -0.21 & 0.10 & 0.47 & -35.64 & -37.29 & -19.35 & 9.50 & 38.98 \\\\\n",
      "\\cline{1-12}\n",
      "R2/s(e) & S & 0.90 & 0.88 & 0.87 & 0.84 & 0.85 & 0.03 & 0.03 & 0.03 & 0.04 & 0.03 \\\\\n",
      "\\cline{1-12}\n",
      "\\multirow[t]{4}{*}{} & 2 & 0.96 & 0.94 & 0.92 & 0.91 & 0.94 & 0.02 & 0.02 & 0.02 & 0.02 & 0.02 \\\\\n",
      " & 3 & 0.95 & 0.95 & 0.93 & 0.93 & 0.93 & 0.02 & 0.02 & 0.02 & 0.02 & 0.02 \\\\\n",
      " & 4 & 0.92 & 0.93 & 0.92 & 0.91 & 0.92 & 0.03 & 0.02 & 0.02 & 0.02 & 0.02 \\\\\n",
      " & B & 0.88 & 0.92 & 0.93 & 0.92 & 0.91 & 0.03 & 0.02 & 0.02 & 0.02 & 0.02 \\\\\n",
      "\\cline{1-12}\n",
      "\\bottomrule\n",
      "\\end{tabular}\n",
      "\\end{table}\n",
      "\n"
     ]
    }
   ],
   "source": [
    "# To latex regression tab:\n",
    "latex_table = tab.to_latex(index=True, float_format=\"%.2f\", \n",
    "                           caption=r\"Regression: R(t)-RF(t)=a + b [RM(t) - RF(t)] + sSMB(t) + m MOM(t) +e(t)\", \n",
    "                           label=\"tab:regression\")\n",
    "print(latex_table)\n"
   ]
  },
  {
   "cell_type": "markdown",
   "metadata": {},
   "source": [
    "Now for the Subperiods. \n",
    "192701-196306:"
   ]
  },
  {
   "cell_type": "code",
   "execution_count": 642,
   "metadata": {},
   "outputs": [
    {
     "name": "stderr",
     "output_type": "stream",
     "text": [
      "C:\\Users\\andre\\AppData\\Local\\Temp\\ipykernel_19148\\1946023651.py:16: FutureWarning: The behavior of DataFrame concatenation with empty or all-NA entries is deprecated. In a future version, this will no longer exclude empty or all-NA columns when determining the result dtypes. To retain the old behavior, exclude the relevant entries before the concat operation.\n",
      "  params = pd.concat([params,coef], ignore_index=True)\n",
      "C:\\Users\\andre\\AppData\\Local\\Temp\\ipykernel_19148\\1946023651.py:17: FutureWarning: The behavior of DataFrame concatenation with empty or all-NA entries is deprecated. In a future version, this will no longer exclude empty or all-NA columns when determining the result dtypes. To retain the old behavior, exclude the relevant entries before the concat operation.\n",
      "  tvals =  pd.concat([tvals,ttest], ignore_index=True)\n",
      "C:\\Users\\andre\\AppData\\Local\\Temp\\ipykernel_19148\\1946023651.py:16: FutureWarning: The behavior of DataFrame concatenation with empty or all-NA entries is deprecated. In a future version, this will no longer exclude empty or all-NA columns when determining the result dtypes. To retain the old behavior, exclude the relevant entries before the concat operation.\n",
      "  params = pd.concat([params,coef], ignore_index=True)\n",
      "C:\\Users\\andre\\AppData\\Local\\Temp\\ipykernel_19148\\1946023651.py:17: FutureWarning: The behavior of DataFrame concatenation with empty or all-NA entries is deprecated. In a future version, this will no longer exclude empty or all-NA columns when determining the result dtypes. To retain the old behavior, exclude the relevant entries before the concat operation.\n",
      "  tvals =  pd.concat([tvals,ttest], ignore_index=True)\n"
     ]
    },
    {
     "name": "stdout",
     "output_type": "stream",
     "text": [
      "\\begin{table}\n",
      "\\caption{Subperiod: 192701-196306, Regression: R(t)-RF(t)=a + b [RM(t) - RF(t)] + sSMB(t) + m MOM(t) +e(t)}\n",
      "\\label{tab:regression}\n",
      "\\begin{tabular}{llrrrrrrrrrr}\n",
      "\\toprule\n",
      " &  & \\beta/R^2 & \\multicolumn{4}{r}{} & t(\\beta)/s(e) & \\multicolumn{4}{r}{} \\\\\n",
      " &  & LPrior & 2 & 3 & 4 & HPrior & LPrior & 2 & 3 & 4 & HPrior \\\\\n",
      "\\midrule\n",
      "a & S & 0.00 & 0.00 & 0.00 & -0.00 & 0.00 & 1.12 & 1.75 & 2.47 & -0.05 & 0.11 \\\\\n",
      "\\cline{1-12}\n",
      "\\multirow[t]{4}{*}{} & 2 & -0.00 & -0.00 & -0.00 & -0.00 & -0.00 & -2.56 & -0.41 & -0.29 & -0.85 & -0.52 \\\\\n",
      " & 3 & -0.00 & 0.00 & -0.00 & -0.00 & -0.00 & -3.34 & 0.12 & -0.58 & -1.25 & -0.97 \\\\\n",
      " & 4 & -0.00 & -0.00 & 0.00 & -0.00 & 0.00 & -0.48 & -1.21 & 0.22 & -0.78 & 1.27 \\\\\n",
      " & B & 0.00 & -0.00 & 0.00 & 0.00 & -0.00 & 0.32 & -0.13 & 2.74 & 1.94 & -0.64 \\\\\n",
      "\\cline{1-12}\n",
      "b & S & -1.31 & -1.40 & -1.38 & -1.13 & -0.95 & -13.85 & -15.13 & -16.62 & -10.56 & -8.68 \\\\\n",
      "\\cline{1-12}\n",
      "\\multirow[t]{4}{*}{} & 2 & -0.36 & -0.50 & -0.29 & -0.41 & -0.46 & -6.71 & -10.24 & -5.10 & -6.53 & -9.34 \\\\\n",
      " & 3 & 0.25 & 0.24 & 0.26 & 0.18 & 0.23 & 5.22 & 5.57 & 5.74 & 4.53 & 5.16 \\\\\n",
      " & 4 & 0.82 & 0.84 & 0.66 & 0.70 & 0.59 & 11.60 & 17.24 & 13.92 & 15.46 & 12.81 \\\\\n",
      " & B & 1.00 & 1.22 & 1.20 & 1.22 & 1.01 & 12.39 & 27.52 & 35.38 & 35.11 & 23.52 \\\\\n",
      "\\cline{1-12}\n",
      "s & S & 1.60 & 1.69 & 1.61 & 1.56 & 1.41 & 30.03 & 32.18 & 34.33 & 26.00 & 22.90 \\\\\n",
      "\\cline{1-12}\n",
      "\\multirow[t]{4}{*}{} & 2 & 1.02 & 1.06 & 0.89 & 1.01 & 1.07 & 34.00 & 38.21 & 27.35 & 28.76 & 38.69 \\\\\n",
      " & 3 & 0.63 & 0.59 & 0.55 & 0.58 & 0.60 & 23.08 & 23.93 & 21.31 & 25.84 & 23.20 \\\\\n",
      " & 4 & 0.30 & 0.20 & 0.27 & 0.28 & 0.36 & 7.44 & 7.39 & 10.29 & 10.87 & 13.70 \\\\\n",
      " & B & 0.05 & -0.13 & -0.12 & -0.13 & 0.05 & 1.12 & -5.21 & -6.41 & -6.67 & 2.07 \\\\\n",
      "\\cline{1-12}\n",
      "m & S & -0.39 & -0.12 & 0.00 & 0.37 & 0.55 & -8.64 & -2.66 & 0.05 & 7.29 & 10.49 \\\\\n",
      "\\cline{1-12}\n",
      "\\multirow[t]{4}{*}{} & 2 & -0.47 & -0.15 & 0.01 & 0.34 & 0.56 & -18.33 & -6.22 & 0.39 & 11.18 & 23.68 \\\\\n",
      " & 3 & -0.64 & -0.25 & -0.05 & 0.28 & 0.58 & -27.38 & -11.64 & -2.09 & 14.49 & 26.27 \\\\\n",
      " & 4 & -0.76 & -0.34 & -0.06 & 0.20 & 0.54 & -22.35 & -14.57 & -2.86 & 9.27 & 24.23 \\\\\n",
      " & B & -0.75 & -0.47 & -0.26 & 0.09 & 0.44 & -19.31 & -21.81 & -16.20 & 5.36 & 21.26 \\\\\n",
      "\\cline{1-12}\n",
      "R2/s(e) & S & 0.91 & 0.91 & 0.91 & 0.86 & 0.82 & 0.04 & 0.04 & 0.04 & 0.05 & 0.05 \\\\\n",
      "\\cline{1-12}\n",
      "\\multirow[t]{4}{*}{} & 2 & 0.96 & 0.96 & 0.93 & 0.92 & 0.95 & 0.02 & 0.02 & 0.03 & 0.03 & 0.02 \\\\\n",
      " & 3 & 0.97 & 0.96 & 0.95 & 0.95 & 0.93 & 0.02 & 0.02 & 0.02 & 0.02 & 0.02 \\\\\n",
      " & 4 & 0.93 & 0.95 & 0.93 & 0.93 & 0.92 & 0.03 & 0.02 & 0.02 & 0.02 & 0.02 \\\\\n",
      " & B & 0.89 & 0.94 & 0.96 & 0.94 & 0.92 & 0.04 & 0.02 & 0.01 & 0.02 & 0.02 \\\\\n",
      "\\cline{1-12}\n",
      "\\bottomrule\n",
      "\\end{tabular}\n",
      "\\end{table}\n",
      "\n"
     ]
    },
    {
     "name": "stderr",
     "output_type": "stream",
     "text": [
      "C:\\Users\\andre\\AppData\\Local\\Temp\\ipykernel_19148\\1946023651.py:16: FutureWarning: The behavior of DataFrame concatenation with empty or all-NA entries is deprecated. In a future version, this will no longer exclude empty or all-NA columns when determining the result dtypes. To retain the old behavior, exclude the relevant entries before the concat operation.\n",
      "  params = pd.concat([params,coef], ignore_index=True)\n",
      "C:\\Users\\andre\\AppData\\Local\\Temp\\ipykernel_19148\\1946023651.py:17: FutureWarning: The behavior of DataFrame concatenation with empty or all-NA entries is deprecated. In a future version, this will no longer exclude empty or all-NA columns when determining the result dtypes. To retain the old behavior, exclude the relevant entries before the concat operation.\n",
      "  tvals =  pd.concat([tvals,ttest], ignore_index=True)\n",
      "C:\\Users\\andre\\AppData\\Local\\Temp\\ipykernel_19148\\1946023651.py:16: FutureWarning: The behavior of DataFrame concatenation with empty or all-NA entries is deprecated. In a future version, this will no longer exclude empty or all-NA columns when determining the result dtypes. To retain the old behavior, exclude the relevant entries before the concat operation.\n",
      "  params = pd.concat([params,coef], ignore_index=True)\n",
      "C:\\Users\\andre\\AppData\\Local\\Temp\\ipykernel_19148\\1946023651.py:17: FutureWarning: The behavior of DataFrame concatenation with empty or all-NA entries is deprecated. In a future version, this will no longer exclude empty or all-NA columns when determining the result dtypes. To retain the old behavior, exclude the relevant entries before the concat operation.\n",
      "  tvals =  pd.concat([tvals,ttest], ignore_index=True)\n",
      "C:\\Users\\andre\\AppData\\Local\\Temp\\ipykernel_19148\\1946023651.py:16: FutureWarning: The behavior of DataFrame concatenation with empty or all-NA entries is deprecated. In a future version, this will no longer exclude empty or all-NA columns when determining the result dtypes. To retain the old behavior, exclude the relevant entries before the concat operation.\n",
      "  params = pd.concat([params,coef], ignore_index=True)\n",
      "C:\\Users\\andre\\AppData\\Local\\Temp\\ipykernel_19148\\1946023651.py:17: FutureWarning: The behavior of DataFrame concatenation with empty or all-NA entries is deprecated. In a future version, this will no longer exclude empty or all-NA columns when determining the result dtypes. To retain the old behavior, exclude the relevant entries before the concat operation.\n",
      "  tvals =  pd.concat([tvals,ttest], ignore_index=True)\n"
     ]
    }
   ],
   "source": [
    "dep = MOMdep.copy()\n",
    "exp = MOMexp.copy()\n",
    "rf = FF.copy()\n",
    "dep = dep[(dep[\"Date\"]<'1963-07-31')]\n",
    "exp = exp[(exp[\"Date\"]<'1963-07-31')].drop(columns = \"Date\")\n",
    "rf = rf[( rf[\"Date\"]<'1963-07-31')].drop(columns = \"Date\")\n",
    "\n",
    "\n",
    "a = out_array(\"a\", dep, exp, rf)\n",
    "b = out_array(\"b\", dep, exp, rf)\n",
    "s = out_array(\"s\", dep, exp, rf)\n",
    "m = out_array(\"m\", dep, exp, rf)\n",
    "R2_se = out_array(\"R2/s(e)\", dep, exp, rf)\n",
    "tab = pd.concat([a,b,s,m, R2_se])\n",
    "\n",
    "# To latex regression tab:\n",
    "latex_table = tab.to_latex(index=True, float_format=\"%.2f\", \n",
    "                           caption=r\"Subperiod: 192701-196306, Regression: R(t)-RF(t)=a + b [RM(t) - RF(t)] + sSMB(t) + m MOM(t) +e(t)\", \n",
    "                           label=\"tab:regression\")\n",
    "print(latex_table)"
   ]
  },
  {
   "cell_type": "markdown",
   "metadata": {},
   "source": [
    "196307-199112\n"
   ]
  },
  {
   "cell_type": "code",
   "execution_count": 643,
   "metadata": {},
   "outputs": [
    {
     "name": "stderr",
     "output_type": "stream",
     "text": [
      "C:\\Users\\andre\\AppData\\Local\\Temp\\ipykernel_19148\\1946023651.py:16: FutureWarning: The behavior of DataFrame concatenation with empty or all-NA entries is deprecated. In a future version, this will no longer exclude empty or all-NA columns when determining the result dtypes. To retain the old behavior, exclude the relevant entries before the concat operation.\n",
      "  params = pd.concat([params,coef], ignore_index=True)\n",
      "C:\\Users\\andre\\AppData\\Local\\Temp\\ipykernel_19148\\1946023651.py:17: FutureWarning: The behavior of DataFrame concatenation with empty or all-NA entries is deprecated. In a future version, this will no longer exclude empty or all-NA columns when determining the result dtypes. To retain the old behavior, exclude the relevant entries before the concat operation.\n",
      "  tvals =  pd.concat([tvals,ttest], ignore_index=True)\n",
      "C:\\Users\\andre\\AppData\\Local\\Temp\\ipykernel_19148\\1946023651.py:16: FutureWarning: The behavior of DataFrame concatenation with empty or all-NA entries is deprecated. In a future version, this will no longer exclude empty or all-NA columns when determining the result dtypes. To retain the old behavior, exclude the relevant entries before the concat operation.\n",
      "  params = pd.concat([params,coef], ignore_index=True)\n",
      "C:\\Users\\andre\\AppData\\Local\\Temp\\ipykernel_19148\\1946023651.py:17: FutureWarning: The behavior of DataFrame concatenation with empty or all-NA entries is deprecated. In a future version, this will no longer exclude empty or all-NA columns when determining the result dtypes. To retain the old behavior, exclude the relevant entries before the concat operation.\n",
      "  tvals =  pd.concat([tvals,ttest], ignore_index=True)\n",
      "C:\\Users\\andre\\AppData\\Local\\Temp\\ipykernel_19148\\1946023651.py:16: FutureWarning: The behavior of DataFrame concatenation with empty or all-NA entries is deprecated. In a future version, this will no longer exclude empty or all-NA columns when determining the result dtypes. To retain the old behavior, exclude the relevant entries before the concat operation.\n",
      "  params = pd.concat([params,coef], ignore_index=True)\n",
      "C:\\Users\\andre\\AppData\\Local\\Temp\\ipykernel_19148\\1946023651.py:17: FutureWarning: The behavior of DataFrame concatenation with empty or all-NA entries is deprecated. In a future version, this will no longer exclude empty or all-NA columns when determining the result dtypes. To retain the old behavior, exclude the relevant entries before the concat operation.\n",
      "  tvals =  pd.concat([tvals,ttest], ignore_index=True)\n"
     ]
    },
    {
     "name": "stdout",
     "output_type": "stream",
     "text": [
      "\\begin{table}\n",
      "\\caption{Subperiod: 196307-199112, Regression: R(t)-RF(t)=a + b [RM(t) - RF(t)] + sSMB(t) + m MOM(t) +e(t)}\n",
      "\\label{tab:regression}\n",
      "\\begin{tabular}{llrrrrrrrrrr}\n",
      "\\toprule\n",
      " &  & \\beta/R^2 & \\multicolumn{4}{r}{} & t(\\beta)/s(e) & \\multicolumn{4}{r}{} \\\\\n",
      " &  & LPrior & 2 & 3 & 4 & HPrior & LPrior & 2 & 3 & 4 & HPrior \\\\\n",
      "\\midrule\n",
      "a & S & -0.02 & -0.01 & -0.01 & -0.01 & -0.01 & -14.37 & -7.58 & -6.06 & -7.57 & -8.10 \\\\\n",
      "\\cline{1-12}\n",
      "\\multirow[t]{4}{*}{} & 2 & -0.01 & -0.01 & -0.00 & -0.00 & -0.01 & -14.13 & -6.23 & -4.76 & -5.11 & -7.93 \\\\\n",
      " & 3 & -0.01 & -0.00 & -0.00 & -0.00 & -0.00 & -6.77 & -2.97 & -3.13 & -5.35 & -4.27 \\\\\n",
      " & 4 & -0.00 & 0.00 & -0.00 & -0.00 & -0.00 & -2.66 & 0.78 & -1.32 & -1.11 & -3.45 \\\\\n",
      " & B & 0.00 & 0.01 & 0.00 & -0.00 & -0.00 & 1.36 & 5.73 & 2.12 & -0.08 & -2.83 \\\\\n",
      "\\cline{1-12}\n",
      "b & S & -0.77 & -0.59 & -0.56 & -0.49 & -0.62 & -11.91 & -11.27 & -10.61 & -9.76 & -11.50 \\\\\n",
      "\\cline{1-12}\n",
      "\\multirow[t]{4}{*}{} & 2 & -0.14 & -0.07 & -0.01 & -0.08 & -0.14 & -2.78 & -1.50 & -0.24 & -1.87 & -3.22 \\\\\n",
      " & 3 & 0.21 & 0.27 & 0.26 & 0.25 & 0.14 & 3.63 & 6.06 & 6.00 & 5.85 & 3.09 \\\\\n",
      " & 4 & 0.53 & 0.76 & 0.64 & 0.67 & 0.47 & 8.16 & 15.72 & 14.49 & 15.57 & 9.60 \\\\\n",
      " & B & 1.16 & 1.22 & 1.29 & 1.22 & 0.90 & 15.80 & 24.07 & 29.26 & 30.77 & 17.56 \\\\\n",
      "\\cline{1-12}\n",
      "s & S & 1.30 & 1.06 & 1.03 & 1.01 & 1.21 & 33.76 & 34.18 & 32.74 & 33.34 & 37.64 \\\\\n",
      "\\cline{1-12}\n",
      "\\multirow[t]{4}{*}{} & 2 & 0.94 & 0.76 & 0.70 & 0.77 & 0.93 & 31.50 & 28.18 & 26.47 & 29.56 & 36.22 \\\\\n",
      " & 3 & 0.66 & 0.53 & 0.51 & 0.53 & 0.72 & 19.54 & 20.11 & 19.58 & 21.01 & 26.81 \\\\\n",
      " & 4 & 0.42 & 0.24 & 0.27 & 0.27 & 0.47 & 10.88 & 8.17 & 10.36 & 10.62 & 15.99 \\\\\n",
      " & B & -0.01 & -0.19 & -0.22 & -0.17 & 0.10 & -0.17 & -6.20 & -8.20 & -7.35 & 3.37 \\\\\n",
      "\\cline{1-12}\n",
      "m & S & -0.36 & -0.16 & 0.01 & 0.23 & 0.51 & -11.26 & -6.35 & 0.58 & 9.19 & 19.02 \\\\\n",
      "\\cline{1-12}\n",
      "\\multirow[t]{4}{*}{} & 2 & -0.44 & -0.22 & -0.00 & 0.19 & 0.50 & -17.76 & -9.73 & -0.10 & 8.83 & 23.59 \\\\\n",
      " & 3 & -0.56 & -0.31 & -0.10 & 0.19 & 0.54 & -19.96 & -14.30 & -4.75 & 8.89 & 24.18 \\\\\n",
      " & 4 & -0.63 & -0.40 & -0.15 & 0.12 & 0.52 & -19.60 & -16.76 & -7.05 & 5.52 & 21.55 \\\\\n",
      " & B & -0.72 & -0.49 & -0.15 & 0.22 & 0.59 & -19.88 & -19.38 & -6.94 & 10.95 & 23.18 \\\\\n",
      "\\cline{1-12}\n",
      "R2/s(e) & S & 0.93 & 0.93 & 0.92 & 0.93 & 0.94 & 0.02 & 0.02 & 0.02 & 0.02 & 0.02 \\\\\n",
      "\\cline{1-12}\n",
      "\\multirow[t]{4}{*}{} & 2 & 0.95 & 0.94 & 0.94 & 0.95 & 0.96 & 0.02 & 0.01 & 0.01 & 0.01 & 0.01 \\\\\n",
      " & 3 & 0.93 & 0.94 & 0.94 & 0.94 & 0.95 & 0.02 & 0.01 & 0.01 & 0.01 & 0.01 \\\\\n",
      " & 4 & 0.90 & 0.93 & 0.93 & 0.94 & 0.94 & 0.02 & 0.01 & 0.01 & 0.01 & 0.01 \\\\\n",
      " & B & 0.87 & 0.89 & 0.91 & 0.93 & 0.92 & 0.02 & 0.02 & 0.01 & 0.01 & 0.02 \\\\\n",
      "\\cline{1-12}\n",
      "\\bottomrule\n",
      "\\end{tabular}\n",
      "\\end{table}\n",
      "\n"
     ]
    },
    {
     "name": "stderr",
     "output_type": "stream",
     "text": [
      "C:\\Users\\andre\\AppData\\Local\\Temp\\ipykernel_19148\\1946023651.py:16: FutureWarning: The behavior of DataFrame concatenation with empty or all-NA entries is deprecated. In a future version, this will no longer exclude empty or all-NA columns when determining the result dtypes. To retain the old behavior, exclude the relevant entries before the concat operation.\n",
      "  params = pd.concat([params,coef], ignore_index=True)\n",
      "C:\\Users\\andre\\AppData\\Local\\Temp\\ipykernel_19148\\1946023651.py:17: FutureWarning: The behavior of DataFrame concatenation with empty or all-NA entries is deprecated. In a future version, this will no longer exclude empty or all-NA columns when determining the result dtypes. To retain the old behavior, exclude the relevant entries before the concat operation.\n",
      "  tvals =  pd.concat([tvals,ttest], ignore_index=True)\n",
      "C:\\Users\\andre\\AppData\\Local\\Temp\\ipykernel_19148\\1946023651.py:16: FutureWarning: The behavior of DataFrame concatenation with empty or all-NA entries is deprecated. In a future version, this will no longer exclude empty or all-NA columns when determining the result dtypes. To retain the old behavior, exclude the relevant entries before the concat operation.\n",
      "  params = pd.concat([params,coef], ignore_index=True)\n",
      "C:\\Users\\andre\\AppData\\Local\\Temp\\ipykernel_19148\\1946023651.py:17: FutureWarning: The behavior of DataFrame concatenation with empty or all-NA entries is deprecated. In a future version, this will no longer exclude empty or all-NA columns when determining the result dtypes. To retain the old behavior, exclude the relevant entries before the concat operation.\n",
      "  tvals =  pd.concat([tvals,ttest], ignore_index=True)\n"
     ]
    }
   ],
   "source": [
    "dep = MOMdep.copy()\n",
    "exp = MOMexp.copy()\n",
    "rf = FF.copy()\n",
    "dep = dep[(dep[\"Date\"]>='1963-07-31') & (dep[\"Date\"]<='1991-12-31')]\n",
    "exp = exp[(exp[\"Date\"]>='1963-07-31')& (exp[\"Date\"]<='1991-12-31')].drop(columns = \"Date\")\n",
    "rf = rf[( rf[\"Date\"]>='1963-07-31')& (rf[\"Date\"]<='1991-12-31')].drop(columns = \"Date\")\n",
    "\n",
    "\n",
    "a = out_array(\"a\", dep, exp, rf)\n",
    "b = out_array(\"b\", dep, exp, rf)\n",
    "s = out_array(\"s\", dep, exp, rf)\n",
    "m = out_array(\"m\", dep, exp, rf)\n",
    "R2_se = out_array(\"R2/s(e)\", dep, exp, rf)\n",
    "tab = pd.concat([a,b,s,m, R2_se])\n",
    "\n",
    "# To latex regression tab:\n",
    "latex_table = tab.to_latex(index=True, float_format=\"%.2f\", \n",
    "                           caption=r\"Subperiod: 196307-199112, Regression: R(t)-RF(t)=a + b [RM(t) - RF(t)] + sSMB(t) + m MOM(t) +e(t)\", \n",
    "                           label=\"tab:regression\")\n",
    "print(latex_table)"
   ]
  },
  {
   "cell_type": "markdown",
   "metadata": {},
   "source": [
    "199201-202312"
   ]
  },
  {
   "cell_type": "code",
   "execution_count": 644,
   "metadata": {},
   "outputs": [
    {
     "name": "stderr",
     "output_type": "stream",
     "text": [
      "C:\\Users\\andre\\AppData\\Local\\Temp\\ipykernel_19148\\1946023651.py:16: FutureWarning: The behavior of DataFrame concatenation with empty or all-NA entries is deprecated. In a future version, this will no longer exclude empty or all-NA columns when determining the result dtypes. To retain the old behavior, exclude the relevant entries before the concat operation.\n",
      "  params = pd.concat([params,coef], ignore_index=True)\n",
      "C:\\Users\\andre\\AppData\\Local\\Temp\\ipykernel_19148\\1946023651.py:17: FutureWarning: The behavior of DataFrame concatenation with empty or all-NA entries is deprecated. In a future version, this will no longer exclude empty or all-NA columns when determining the result dtypes. To retain the old behavior, exclude the relevant entries before the concat operation.\n",
      "  tvals =  pd.concat([tvals,ttest], ignore_index=True)\n",
      "C:\\Users\\andre\\AppData\\Local\\Temp\\ipykernel_19148\\1946023651.py:16: FutureWarning: The behavior of DataFrame concatenation with empty or all-NA entries is deprecated. In a future version, this will no longer exclude empty or all-NA columns when determining the result dtypes. To retain the old behavior, exclude the relevant entries before the concat operation.\n",
      "  params = pd.concat([params,coef], ignore_index=True)\n",
      "C:\\Users\\andre\\AppData\\Local\\Temp\\ipykernel_19148\\1946023651.py:17: FutureWarning: The behavior of DataFrame concatenation with empty or all-NA entries is deprecated. In a future version, this will no longer exclude empty or all-NA columns when determining the result dtypes. To retain the old behavior, exclude the relevant entries before the concat operation.\n",
      "  tvals =  pd.concat([tvals,ttest], ignore_index=True)\n",
      "C:\\Users\\andre\\AppData\\Local\\Temp\\ipykernel_19148\\1946023651.py:16: FutureWarning: The behavior of DataFrame concatenation with empty or all-NA entries is deprecated. In a future version, this will no longer exclude empty or all-NA columns when determining the result dtypes. To retain the old behavior, exclude the relevant entries before the concat operation.\n",
      "  params = pd.concat([params,coef], ignore_index=True)\n",
      "C:\\Users\\andre\\AppData\\Local\\Temp\\ipykernel_19148\\1946023651.py:17: FutureWarning: The behavior of DataFrame concatenation with empty or all-NA entries is deprecated. In a future version, this will no longer exclude empty or all-NA columns when determining the result dtypes. To retain the old behavior, exclude the relevant entries before the concat operation.\n",
      "  tvals =  pd.concat([tvals,ttest], ignore_index=True)\n",
      "C:\\Users\\andre\\AppData\\Local\\Temp\\ipykernel_19148\\1946023651.py:16: FutureWarning: The behavior of DataFrame concatenation with empty or all-NA entries is deprecated. In a future version, this will no longer exclude empty or all-NA columns when determining the result dtypes. To retain the old behavior, exclude the relevant entries before the concat operation.\n",
      "  params = pd.concat([params,coef], ignore_index=True)\n",
      "C:\\Users\\andre\\AppData\\Local\\Temp\\ipykernel_19148\\1946023651.py:17: FutureWarning: The behavior of DataFrame concatenation with empty or all-NA entries is deprecated. In a future version, this will no longer exclude empty or all-NA columns when determining the result dtypes. To retain the old behavior, exclude the relevant entries before the concat operation.\n",
      "  tvals =  pd.concat([tvals,ttest], ignore_index=True)\n"
     ]
    },
    {
     "name": "stdout",
     "output_type": "stream",
     "text": [
      "\\begin{table}\n",
      "\\caption{Subperiod: 199201-202312, Regression: R(t)-RF(t)=a + b [RM(t) - RF(t)] + sSMB(t) + m MOM(t) +e(t)}\n",
      "\\label{tab:regression}\n",
      "\\begin{tabular}{llrrrrrrrrrr}\n",
      "\\toprule\n",
      " &  & \\beta/R^2 & \\multicolumn{4}{r}{} & t(\\beta)/s(e) & \\multicolumn{4}{r}{} \\\\\n",
      " &  & LPrior & 2 & 3 & 4 & HPrior & LPrior & 2 & 3 & 4 & HPrior \\\\\n",
      "\\midrule\n",
      "a & S & -0.01 & -0.00 & 0.00 & 0.00 & -0.00 & -4.68 & -1.29 & 0.64 & 1.79 & -0.69 \\\\\n",
      "\\cline{1-12}\n",
      "\\multirow[t]{4}{*}{} & 2 & -0.00 & 0.00 & 0.00 & 0.00 & -0.00 & -4.57 & 0.13 & 0.67 & 0.61 & -3.04 \\\\\n",
      " & 3 & -0.00 & -0.00 & 0.00 & -0.00 & -0.00 & -2.08 & -0.04 & 0.97 & -0.52 & -4.15 \\\\\n",
      " & 4 & -0.00 & 0.00 & 0.00 & 0.00 & -0.00 & -2.45 & 1.90 & 2.42 & 0.95 & -2.90 \\\\\n",
      " & B & -0.00 & 0.00 & 0.00 & 0.00 & -0.00 & -0.47 & 3.29 & 2.31 & 1.61 & -1.74 \\\\\n",
      "\\cline{1-12}\n",
      "b & S & -0.66 & -0.42 & -0.29 & -0.42 & -0.61 & -8.21 & -8.14 & -5.54 & -7.42 & -10.03 \\\\\n",
      "\\cline{1-12}\n",
      "\\multirow[t]{4}{*}{} & 2 & -0.23 & -0.16 & -0.10 & -0.19 & -0.33 & -4.43 & -3.23 & -2.03 & -4.24 & -6.75 \\\\\n",
      " & 3 & 0.20 & 0.29 & 0.22 & 0.22 & 0.06 & 3.17 & 5.79 & 4.26 & 4.20 & 1.27 \\\\\n",
      " & 4 & 0.51 & 0.67 & 0.68 & 0.67 & 0.38 & 7.11 & 12.57 & 13.22 & 13.49 & 7.63 \\\\\n",
      " & B & 1.03 & 1.06 & 1.14 & 1.16 & 0.97 & 12.72 & 21.45 & 26.60 & 25.82 & 21.44 \\\\\n",
      "\\cline{1-12}\n",
      "s & S & 1.25 & 0.89 & 0.76 & 0.85 & 1.16 & 27.43 & 29.89 & 25.35 & 26.45 & 33.31 \\\\\n",
      "\\cline{1-12}\n",
      "\\multirow[t]{4}{*}{} & 2 & 1.03 & 0.77 & 0.69 & 0.77 & 1.08 & 33.97 & 27.44 & 23.84 & 29.47 & 38.73 \\\\\n",
      " & 3 & 0.71 & 0.49 & 0.47 & 0.49 & 0.79 & 19.13 & 17.01 & 16.01 & 16.24 & 31.06 \\\\\n",
      " & 4 & 0.51 & 0.22 & 0.16 & 0.17 & 0.53 & 12.26 & 7.41 & 5.52 & 6.11 & 18.47 \\\\\n",
      " & B & 0.09 & -0.12 & -0.18 & -0.18 & 0.08 & 1.86 & -4.32 & -7.48 & -6.94 & 2.97 \\\\\n",
      "\\cline{1-12}\n",
      "m & S & -0.44 & -0.08 & 0.06 & 0.20 & 0.54 & -13.21 & -3.51 & 2.60 & 8.56 & 21.03 \\\\\n",
      "\\cline{1-12}\n",
      "\\multirow[t]{4}{*}{} & 2 & -0.51 & -0.16 & 0.05 & 0.19 & 0.63 & -23.10 & -7.59 & 2.45 & 9.79 & 30.70 \\\\\n",
      " & 3 & -0.62 & -0.23 & -0.07 & 0.13 & 0.59 & -22.85 & -10.62 & -3.26 & 5.87 & 31.57 \\\\\n",
      " & 4 & -0.74 & -0.34 & -0.13 & 0.08 & 0.57 & -24.51 & -15.48 & -6.08 & 3.68 & 27.14 \\\\\n",
      " & B & -0.78 & -0.47 & -0.17 & 0.07 & 0.46 & -23.14 & -22.80 & -9.42 & 3.59 & 24.18 \\\\\n",
      "\\cline{1-12}\n",
      "R2/s(e) & S & 0.90 & 0.90 & 0.87 & 0.86 & 0.89 & 0.03 & 0.02 & 0.02 & 0.02 & 0.02 \\\\\n",
      "\\cline{1-12}\n",
      "\\multirow[t]{4}{*}{} & 2 & 0.95 & 0.92 & 0.89 & 0.91 & 0.94 & 0.02 & 0.02 & 0.02 & 0.02 & 0.02 \\\\\n",
      " & 3 & 0.93 & 0.91 & 0.87 & 0.86 & 0.93 & 0.02 & 0.02 & 0.02 & 0.02 & 0.02 \\\\\n",
      " & 4 & 0.91 & 0.89 & 0.86 & 0.85 & 0.90 & 0.03 & 0.02 & 0.02 & 0.02 & 0.02 \\\\\n",
      " & B & 0.87 & 0.89 & 0.88 & 0.85 & 0.89 & 0.03 & 0.02 & 0.02 & 0.02 & 0.02 \\\\\n",
      "\\cline{1-12}\n",
      "\\bottomrule\n",
      "\\end{tabular}\n",
      "\\end{table}\n",
      "\n"
     ]
    },
    {
     "name": "stderr",
     "output_type": "stream",
     "text": [
      "C:\\Users\\andre\\AppData\\Local\\Temp\\ipykernel_19148\\1946023651.py:16: FutureWarning: The behavior of DataFrame concatenation with empty or all-NA entries is deprecated. In a future version, this will no longer exclude empty or all-NA columns when determining the result dtypes. To retain the old behavior, exclude the relevant entries before the concat operation.\n",
      "  params = pd.concat([params,coef], ignore_index=True)\n",
      "C:\\Users\\andre\\AppData\\Local\\Temp\\ipykernel_19148\\1946023651.py:17: FutureWarning: The behavior of DataFrame concatenation with empty or all-NA entries is deprecated. In a future version, this will no longer exclude empty or all-NA columns when determining the result dtypes. To retain the old behavior, exclude the relevant entries before the concat operation.\n",
      "  tvals =  pd.concat([tvals,ttest], ignore_index=True)\n"
     ]
    }
   ],
   "source": [
    "dep = MOMdep.copy()\n",
    "exp = MOMexp.copy()\n",
    "rf = FF.copy()\n",
    "dep = dep[(dep[\"Date\"]>='1992-01-31') & (dep[\"Date\"]<='2023-12-31')]\n",
    "exp = exp[(exp[\"Date\"]>='1992-01-31')& (exp[\"Date\"]<='2023-12-31')].drop(columns = \"Date\")\n",
    "rf = rf[( rf[\"Date\"]>='1992-01-31')& (rf[\"Date\"]<='2023-12-31')].drop(columns = \"Date\")\n",
    "\n",
    "\n",
    "a = out_array(\"a\", dep, exp, rf)\n",
    "b = out_array(\"b\", dep, exp, rf)\n",
    "s = out_array(\"s\", dep, exp, rf)\n",
    "m = out_array(\"m\", dep, exp, rf)\n",
    "R2_se = out_array(\"R2/s(e)\", dep, exp, rf)\n",
    "tab = pd.concat([a,b,s,m, R2_se])\n",
    "\n",
    "# To latex regression tab:\n",
    "latex_table = tab.to_latex(index=True, float_format=\"%.2f\", \n",
    "                           caption=r\"Subperiod: 199201-202312, Regression: R(t)-RF(t)=a + b [RM(t) - RF(t)] + sSMB(t) + m MOM(t) +e(t)\", \n",
    "                           label=\"tab:regression\")\n",
    "print(latex_table)"
   ]
  },
  {
   "cell_type": "markdown",
   "metadata": {},
   "source": [
    "### Appendix: Replicate tables and similarly from FF.\n",
    "Here, we produce code to do things similarly to the original paper."
   ]
  },
  {
   "cell_type": "code",
   "execution_count": 645,
   "metadata": {},
   "outputs": [
    {
     "name": "stderr",
     "output_type": "stream",
     "text": [
      "C:\\Users\\andre\\AppData\\Local\\Temp\\ipykernel_19148\\3164172233.py:3: SettingWithCopyWarning: \n",
      "A value is trying to be set on a copy of a slice from a DataFrame.\n",
      "Try using .loc[row_indexer,col_indexer] = value instead\n",
      "\n",
      "See the caveats in the documentation: https://pandas.pydata.org/pandas-docs/stable/user_guide/indexing.html#returning-a-view-versus-a-copy\n",
      "  OFF[\"Mkt-RF\"], OFF[\"SMB\"], OFF[\"HML\"] = OFF[\"Mkt-RF\"]/100, OFF[\"SMB\"]/100, OFF[\"HML\"] /100\n"
     ]
    }
   ],
   "source": [
    "# Take july 1963 to december 1991\n",
    "OFF = FF[(FF[\"Date\"]>='1963-07-31') & ( FF[\"Date\"]<'1992-01-31')] \n",
    "OFF[\"Mkt-RF\"], OFF[\"SMB\"], OFF[\"HML\"] = OFF[\"Mkt-RF\"]/100, OFF[\"SMB\"]/100, OFF[\"HML\"] /100\n",
    "RF = OFF[\"RF\"]\n",
    "OFF = OFF[[\"Mkt-RF\", \"SMB\", \"HML\"]]"
   ]
  },
  {
   "cell_type": "code",
   "execution_count": 646,
   "metadata": {},
   "outputs": [],
   "source": [
    "# Read subparts of FF data. \n",
    "pf_25_vwr = pd.read_csv(\"Data/25_Portfolios_5x5.csv\", skiprows=15, nrows = 1171)\n",
    "pf_25_vwr = pf_25_vwr.rename(columns = {\"Unnamed: 0\" : \"Date\"})\n",
    "pf_25_vwr[\"Date\"] = pd.to_datetime(pf_25_vwr[\"Date\"], format=\"%Y%m\") + pd.offsets.MonthEnd()\n",
    "pf_25_vwr = pf_25_vwr[(pf_25_vwr[\"Date\"]<pd.Timestamp('1992-01-31')) & (pf_25_vwr[\"Date\"]>=pd.Timestamp('1963-07-31'))] \n",
    "pf_25_vwr = pf_25_vwr.set_index(\"Date\").sort_index(ascending=True).reset_index()\n",
    "\n",
    "pf_25_nf = pd.read_csv(\"Data/25_Portfolios_5x5.csv\", skiprows=2581, nrows = 1171)\n",
    "pf_25_nf = pf_25_nf.rename(columns = {\"Unnamed: 0\" : \"Date\"})\n",
    "pf_25_nf[\"Date\"] = pd.to_datetime(pf_25_nf[\"Date\"], format=\"%Y%m\") + pd.offsets.MonthEnd()\n",
    "pf_25_nf = pf_25_nf[(pf_25_nf[\"Date\"]<pd.Timestamp('1992-01-31')) & (pf_25_nf[\"Date\"]>=pd.Timestamp('1963-07-31'))] \n",
    "pf_25_nf = pf_25_nf.set_index(\"Date\").sort_index(ascending=True).reset_index()\n",
    "\n",
    "pf_25_nf[\"Y\"] =  pf_25_nf['Date'].dt.year\n"
   ]
  },
  {
   "cell_type": "code",
   "execution_count": 647,
   "metadata": {},
   "outputs": [],
   "source": [
    "# Subtable 1\n",
    "pf_25_nf = pf_25_nf.groupby([\"Y\"]).mean()\n",
    "pf_25_nf = pf_25_nf.rename({\"ME1 BM2\": \"SMALL BM2\", \"ME1 BM3\": \"SMALL BM3\", \"ME1 BM4\": \"SMALL BM4\",\n",
    "                            \"ME5 BM2\": \"BIG BM2\", \"ME5 BM3\": \"BIG BM3\", \"ME5 BM4\": \"BIG BM4\"})\n",
    "\n",
    "\n",
    "row = [\"SMALL\", \"ME1\", \"ME2\", \"ME3\", \"BIG\"]\n"
   ]
  },
  {
   "cell_type": "code",
   "execution_count": 648,
   "metadata": {},
   "outputs": [
    {
     "name": "stderr",
     "output_type": "stream",
     "text": [
      "C:\\Users\\andre\\AppData\\Local\\Temp\\ipykernel_19148\\409608238.py:16: FutureWarning: The behavior of DataFrame concatenation with empty or all-NA entries is deprecated. In a future version, this will no longer exclude empty or all-NA columns when determining the result dtypes. To retain the old behavior, exclude the relevant entries before the concat operation.\n",
      "  params = pd.concat([params,coef], ignore_index=True)\n",
      "C:\\Users\\andre\\AppData\\Local\\Temp\\ipykernel_19148\\409608238.py:17: FutureWarning: The behavior of DataFrame concatenation with empty or all-NA entries is deprecated. In a future version, this will no longer exclude empty or all-NA columns when determining the result dtypes. To retain the old behavior, exclude the relevant entries before the concat operation.\n",
      "  tvals =  pd.concat([tvals,ttest], ignore_index=True)\n"
     ]
    }
   ],
   "source": [
    "# Regression: \n",
    "\n",
    "var = pf_25_vwr.columns.drop(\"Date\")\n",
    "params = pd.DataFrame(columns =[\"a\", \"b\",\"s\",\"h\",\"R2/s(e)\"])\n",
    "tvals =  pd.DataFrame(columns =[\"a\", \"b\",\"s\",\"h\", \"R2/s(e)\"])\n",
    "X = np.array(OFF).reshape(len(OFF),len(OFF.columns))\n",
    "X = sm.add_constant(X)\n",
    "for v in var:\n",
    "    y = np.array(pf_25_vwr[v]) / 100 - np.array(RF)\n",
    "    linmod = sm.OLS(y,X)\n",
    "    results = linmod.fit()\n",
    "    coef = pd.DataFrame([np.append(results.params.round(2),results.rsquared.round(2))],\n",
    "                        columns=[\"a\", \"b\",\"s\",\"h\",\"R2/s(e)\"])\n",
    "    ttest = pd.DataFrame([np.append(results.tvalues.round(2),np.std(results.resid).round(4))],\n",
    "                         columns=[\"a\", \"b\",\"s\",\"h\", \"R2/s(e)\"])\n",
    "    params = pd.concat([params,coef], ignore_index=True)\n",
    "    tvals =  pd.concat([tvals,ttest], ignore_index=True)\n",
    "\n",
    "#params # Relatively close - > So assume it is correct. \n",
    "\n"
   ]
  },
  {
   "cell_type": "code",
   "execution_count": 649,
   "metadata": {},
   "outputs": [],
   "source": [
    "# Generate table:\n",
    "def out_array(param):\n",
    "    p = param\n",
    "    N = np.sqrt(len(params[p]))\n",
    "    parameter = np.array(params[p]).reshape((int(N),int(N)))\n",
    "    ttest = np.array(tvals[p]).reshape((int(N),int(N)))\n",
    "    tab = np.append(parameter,ttest,axis=1)\n",
    "    tabdf = pd.DataFrame(tab, columns=pd.MultiIndex.from_tuples(\n",
    "                          [(r\"\\beta/R^2\",\"L\"), (\"\",\"2\"), (\"\",\"3\"), (\"\",\"4\"), (\"\",\"H\"),\n",
    "                           (r\"t(\\beta)/s(e)\",\"L\"), (\"\",\"2\"), (\"\",\"3\"), (\"\",\"4\"), (\"\",\"H\")]))\n",
    "    tabdf = tabdf.set_index([pd.Index([param,\"\", \"\", \"\", \"\"]),pd.Index([\"S\", \"2\", \"3\", \"4\", \"B\"])])\n",
    "\n",
    "    return tabdf\n",
    "\n",
    "a = out_array(\"a\")\n",
    "b = out_array(\"b\")\n",
    "s = out_array(\"s\")\n",
    "h = out_array(\"h\")\n",
    "R2_se = out_array(\"R2/s(e)\")\n",
    "tab = pd.concat([a,b,s,h,R2_se])\n"
   ]
  },
  {
   "cell_type": "code",
   "execution_count": 650,
   "metadata": {},
   "outputs": [
    {
     "name": "stdout",
     "output_type": "stream",
     "text": [
      "\\begin{table}\n",
      "\\caption{Original FF}\n",
      "\\label{tab:sample_table}\n",
      "\\begin{tabular}{llrrrrrrrrrr}\n",
      "\\toprule\n",
      " &  & \\beta/R^2 & \\multicolumn{4}{r}{} & t(\\beta)/s(e) & \\multicolumn{4}{r}{} \\\\\n",
      " &  & L & 2 & 3 & 4 & H & L & 2 & 3 & 4 & H \\\\\n",
      "\\midrule\n",
      "a & S & -0.00 & -0.00 & -0.00 & 0.00 & 0.00 & -3.46 & -1.10 & -0.88 & 1.02 & 0.87 \\\\\n",
      "\\cline{1-12}\n",
      "\\multirow[t]{4}{*}{} & 2 & -0.00 & -0.00 & 0.00 & 0.00 & 0.00 & -1.66 & -0.50 & 2.05 & 2.37 & 1.12 \\\\\n",
      " & 3 & -0.00 & 0.00 & 0.00 & 0.00 & 0.00 & -0.44 & 0.78 & 0.18 & 1.86 & 0.71 \\\\\n",
      " & 4 & 0.00 & -0.00 & -0.00 & 0.00 & 0.00 & 1.52 & -1.69 & -0.07 & 1.19 & 0.50 \\\\\n",
      " & B & 0.00 & -0.00 & -0.00 & -0.00 & -0.00 & 2.98 & -0.34 & -0.49 & -0.80 & -1.52 \\\\\n",
      "\\cline{1-12}\n",
      "b & S & 1.04 & 0.97 & 0.94 & 0.90 & 0.95 & 39.29 & 49.91 & 58.25 & 59.85 & 58.02 \\\\\n",
      "\\cline{1-12}\n",
      "\\multirow[t]{4}{*}{} & 2 & 1.10 & 1.02 & 0.97 & 0.97 & 1.07 & 53.85 & 60.04 & 59.48 & 63.28 & 63.37 \\\\\n",
      " & 3 & 1.10 & 1.02 & 0.97 & 0.98 & 1.06 & 59.46 & 57.17 & 54.26 & 58.77 & 50.69 \\\\\n",
      " & 4 & 1.06 & 1.07 & 1.04 & 1.04 & 1.15 & 56.88 & 51.69 & 51.74 & 50.93 & 46.50 \\\\\n",
      " & B & 0.96 & 1.02 & 0.97 & 1.00 & 1.04 & 57.96 & 57.14 & 44.01 & 54.08 & 39.30 \\\\\n",
      "\\cline{1-12}\n",
      "s & S & 1.41 & 1.27 & 1.16 & 1.11 & 1.19 & 35.77 & 43.90 & 48.06 & 49.41 & 48.63 \\\\\n",
      "\\cline{1-12}\n",
      "\\multirow[t]{4}{*}{} & 2 & 1.00 & 0.93 & 0.85 & 0.70 & 0.86 & 32.96 & 36.69 & 35.13 & 30.67 & 34.11 \\\\\n",
      " & 3 & 0.70 & 0.64 & 0.53 & 0.44 & 0.65 & 25.43 & 23.86 & 19.94 & 17.94 & 20.87 \\\\\n",
      " & 4 & 0.30 & 0.28 & 0.23 & 0.24 & 0.35 & 10.64 & 8.94 & 7.71 & 7.97 & 9.45 \\\\\n",
      " & B & -0.20 & -0.19 & -0.27 & -0.20 & -0.05 & -8.09 & -7.09 & -8.17 & -7.22 & -1.34 \\\\\n",
      "\\cline{1-12}\n",
      "h & S & -0.30 & 0.08 & 0.28 & 0.40 & 0.62 & -6.71 & 2.40 & 10.20 & 15.79 & 22.37 \\\\\n",
      "\\cline{1-12}\n",
      "\\multirow[t]{4}{*}{} & 2 & -0.47 & 0.04 & 0.23 & 0.47 & 0.69 & -13.83 & 1.32 & 8.51 & 18.33 & 24.24 \\\\\n",
      " & 3 & -0.43 & 0.04 & 0.31 & 0.51 & 0.71 & -13.84 & 1.21 & 10.40 & 18.18 & 20.09 \\\\\n",
      " & 4 & -0.45 & 0.02 & 0.31 & 0.56 & 0.74 & -14.31 & 0.70 & 9.11 & 16.34 & 17.89 \\\\\n",
      " & B & -0.44 & -0.01 & 0.20 & 0.56 & 0.76 & -15.81 & -0.46 & 5.44 & 17.98 & 17.15 \\\\\n",
      "\\cline{1-12}\n",
      "R2/s(e) & S & 0.94 & 0.96 & 0.96 & 0.97 & 0.96 & 0.02 & 0.01 & 0.01 & 0.01 & 0.01 \\\\\n",
      "\\cline{1-12}\n",
      "\\multirow[t]{4}{*}{} & 2 & 0.96 & 0.96 & 0.96 & 0.96 & 0.96 & 0.01 & 0.01 & 0.01 & 0.01 & 0.01 \\\\\n",
      " & 3 & 0.96 & 0.95 & 0.94 & 0.94 & 0.93 & 0.01 & 0.01 & 0.01 & 0.01 & 0.02 \\\\\n",
      " & 4 & 0.95 & 0.92 & 0.92 & 0.91 & 0.90 & 0.01 & 0.02 & 0.01 & 0.01 & 0.02 \\\\\n",
      " & B & 0.94 & 0.92 & 0.86 & 0.90 & 0.84 & 0.01 & 0.01 & 0.02 & 0.01 & 0.02 \\\\\n",
      "\\cline{1-12}\n",
      "\\bottomrule\n",
      "\\end{tabular}\n",
      "\\end{table}\n",
      "\n"
     ]
    }
   ],
   "source": [
    "latex_table = tab.to_latex(index=True, float_format=\"%.2f\", caption=\"Original FF\", label=\"tab:sample_table\")\n",
    "print(latex_table)"
   ]
  }
 ],
 "metadata": {
  "kernelspec": {
   "display_name": "Python 3",
   "language": "python",
   "name": "python3"
  },
  "language_info": {
   "codemirror_mode": {
    "name": "ipython",
    "version": 3
   },
   "file_extension": ".py",
   "mimetype": "text/x-python",
   "name": "python",
   "nbconvert_exporter": "python",
   "pygments_lexer": "ipython3",
   "version": "3.12.6"
  }
 },
 "nbformat": 4,
 "nbformat_minor": 2
}
