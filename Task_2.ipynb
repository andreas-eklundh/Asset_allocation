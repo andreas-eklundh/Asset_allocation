{
 "cells": [
  {
   "cell_type": "markdown",
   "metadata": {},
   "source": [
    "### Problem 2: Momentum factor\n",
    "Code and notes for subproblem 2: Farma-French Approach"
   ]
  },
  {
   "cell_type": "code",
   "execution_count": 77,
   "metadata": {},
   "outputs": [],
   "source": [
    "# packages and load data.\n",
    "import numpy as np\n",
    "import matplotlib.pyplot as plt\n",
    "import pandas as pd\n",
    "import Utils\n",
    "from scipy.optimize import minimize \n",
    "from sklearn.linear_model import LinearRegression as lm\n",
    "import statsmodels.api as sm\n",
    "import Backtest as bt   \n",
    "import matplotlib.dates as mdates\n",
    "\n",
    "FF = pd.read_csv(\"Data_clean/FF_cleaned.csv\")\n",
    "bond = pd.read_csv(\"Data_clean/bond_returns.csv\")\n",
    "#FF[\"RF\"] = FF[\"RF\"] \n",
    "MOMexp = pd.read_csv(\"Data_clean/6_Portfolios_ME_Prior_12_2_returns.csv\")\n",
    "MOMdep = pd.read_csv(\"Data_clean/25_Portfolios_ME_Prior_12_2_returns.csv\")\n",
    "#MOMexp[\"Market Return\"] = MOMexp[\"Market Return\"] \n",
    "#MOMdep[\"Market Return\"] = MOMdep[\"Market Return\"] \n",
    "# Keep only RF to create new SMB and MOM\n",
    "MOMexp = pd.merge(MOMexp, FF[[\"Date\",\"RF\"]], 'left', on = \"Date\")\n",
    "MOMdep = pd.merge(MOMdep, FF[[\"Date\",\"RF\"]], 'left', on = \"Date\")\n",
    "# MOMdep = pd.merge(MOMdep, bond[[\"Date\",\"10YrReturns\"]], 'left', on = 'Date' )"
   ]
  },
  {
   "cell_type": "markdown",
   "metadata": {},
   "source": [
    "### Format Data\n",
    "That is, we construct SMB and MOM in MOMexp"
   ]
  },
  {
   "cell_type": "code",
   "execution_count": 78,
   "metadata": {},
   "outputs": [],
   "source": [
    "MOMexp[\"SMB\"] = (MOMexp[\"SMALL LoPRIOR\"]  + MOMexp[\"ME1 PRIOR2\"] + \n",
    "                 MOMexp[\"SMALL HiPRIOR\"] ) / 3 - (MOMexp[\"BIG LoPRIOR\"]  + \n",
    "                            MOMexp[\"ME2 PRIOR2\"] + MOMexp[\"BIG HiPRIOR\"] ) / 3 \n",
    "\n",
    "MOMexp[\"MOM\"] = (MOMexp[\"SMALL HiPRIOR\"] + \n",
    "                 MOMexp[\"BIG HiPRIOR\"]) / 2 - (MOMexp[\"SMALL LoPRIOR\"] + MOMexp[\"BIG LoPRIOR\"]) / 2 \n",
    "# SMB and MOM is returns - normalize to fit returns on market\n",
    "MOMexp[\"MOM\"],MOMexp[\"SMB\"] =MOMexp[\"MOM\"] ,MOMexp[\"SMB\"] \n",
    "\n",
    "MOMexp[\"Mkt-RF\"] = MOMexp[\"Market Return\"] - MOMexp[\"RF\"]\n",
    "# Clean data:\n",
    "MOMexp = MOMexp.rename(columns = {\"Market Return\":\"Mkt\"})"
   ]
  },
  {
   "cell_type": "markdown",
   "metadata": {},
   "source": [
    "## Constructing equivalent table 1 and 2"
   ]
  },
  {
   "cell_type": "markdown",
   "metadata": {},
   "source": [
    "### Table 7"
   ]
  },
  {
   "cell_type": "code",
   "execution_count": 79,
   "metadata": {},
   "outputs": [],
   "source": [
    "pf_25_afs = pd.read_csv(\"Data_clean/25_Portfolios_ME_Prior_12_2_afs.csv\")\n",
    "pf_25_nf = pd.read_csv(\"Data_clean/25_Portfolios_ME_Prior_12_2_nf.csv\")\n",
    "pf_25_afs.set_index(\"Date\", inplace = True)\n",
    "pf_25_nf.set_index(\"Date\", inplace = True)"
   ]
  },
  {
   "cell_type": "code",
   "execution_count": 80,
   "metadata": {},
   "outputs": [],
   "source": [
    "market_cap_df = pf_25_afs.multiply(pf_25_nf)\n",
    "market_cap_df['Market Value'] = market_cap_df.sum(axis=1)\n",
    "market_cap_df = market_cap_df.div(market_cap_df['Market Value'], axis=0)\n",
    "market_cap_df.drop('Market Value', axis=1, inplace=True)"
   ]
  },
  {
   "cell_type": "code",
   "execution_count": 81,
   "metadata": {},
   "outputs": [],
   "source": [
    "mean_firm_size = pf_25_afs.mean()\n",
    "mean_number_of_firms = pf_25_nf.mean()\n",
    "mean_pct_of_market = market_cap_df.mean()\n",
    "average_of_annual_averages_matrix = mean_firm_size.values.reshape(5, 5).round(2)\n",
    "average_number_of_firms_matrix = mean_number_of_firms.values.reshape(5, 5).round(2)\n",
    "average_pct_of_market_matrix = mean_pct_of_market.values.reshape(5, 5).round(4)"
   ]
  },
  {
   "cell_type": "code",
   "execution_count": 82,
   "metadata": {},
   "outputs": [
    {
     "data": {
      "text/plain": [
       "array([[ 0.59,  0.35,  0.3 ,  0.3 ,  0.48],\n",
       "       [ 0.63,  0.59,  0.56,  0.57,  0.76],\n",
       "       [ 0.87,  1.07,  1.11,  1.14,  1.33],\n",
       "       [ 1.63,  2.33,  2.57,  2.68,  2.78],\n",
       "       [ 7.58, 14.96, 18.09, 20.24, 16.5 ]])"
      ]
     },
     "execution_count": 82,
     "metadata": {},
     "output_type": "execute_result"
    }
   ],
   "source": [
    "average_pct_of_market_matrix *100"
   ]
  },
  {
   "cell_type": "code",
   "execution_count": 83,
   "metadata": {},
   "outputs": [
    {
     "data": {
      "text/plain": [
       "SMALL LoPRIOR       42.288625\n",
       "ME1 PRIOR2          56.999510\n",
       "ME1 PRIOR3          59.814605\n",
       "ME1 PRIOR4          61.518522\n",
       "SMALL HiPRIOR       64.093677\n",
       "ME2 PRIOR1         288.633668\n",
       "ME2 PRIOR2         298.394098\n",
       "ME2 PRIOR3         301.827251\n",
       "ME2 PRIOR4         301.930292\n",
       "ME2 PRIOR5         298.836753\n",
       "ME3 PRIOR1         690.118789\n",
       "ME3 PRIOR2         705.894888\n",
       "ME3 PRIOR3         715.259854\n",
       "ME3 PRIOR4         716.993119\n",
       "ME3 PRIOR5         708.888754\n",
       "ME4 PRIOR1        1745.226813\n",
       "ME4 PRIOR2        1786.864072\n",
       "ME4 PRIOR3        1782.977294\n",
       "ME4 PRIOR4        1774.818359\n",
       "ME4 PRIOR5        1769.097680\n",
       "BIG LoPRIOR      10772.176060\n",
       "ME5 PRIOR2       13306.455421\n",
       "ME5 PRIOR3       13951.992277\n",
       "ME5 PRIOR4       14236.296314\n",
       "BIG HiPRIOR      13565.647912\n",
       "dtype: float64"
      ]
     },
     "execution_count": 83,
     "metadata": {},
     "output_type": "execute_result"
    }
   ],
   "source": [
    "mean_firm_size"
   ]
  },
  {
   "cell_type": "markdown",
   "metadata": {},
   "source": [
    "Upper part of table 8"
   ]
  },
  {
   "cell_type": "code",
   "execution_count": 84,
   "metadata": {},
   "outputs": [
    {
     "name": "stdout",
     "output_type": "stream",
     "text": [
      "        mean   std  t-stat\n",
      "SMB     0.28  3.46    2.77\n",
      "MOM     0.62  4.70    4.51\n",
      "Mkt-RF  0.69  5.34    4.40\n",
      "Mkt     0.96  5.33    6.12\n",
      "         SMB   MOM  Mkt-RF   Mkt\n",
      "lag_1   0.12  0.07    0.09  0.09\n",
      "lag_2   0.07 -0.07   -0.02 -0.03\n",
      "lag_12  0.12  0.06    0.00  0.00\n",
      "         SMB   MOM  Mkt-RF\n",
      "SMB     1.00 -0.20    0.33\n",
      "MOM    -0.20  1.00   -0.35\n",
      "Mkt-RF  0.33 -0.35    1.00\n"
     ]
    }
   ],
   "source": [
    "# Calculate summary statistics\n",
    "summary_stats = MOMexp[['SMB', 'MOM', 'Mkt-RF', 'Mkt']].agg(['mean', 'std']).transpose()\n",
    "summary_stats['t-stat'] = summary_stats['mean'] / (summary_stats['std'] / np.sqrt(len(MOMexp)))\n",
    "summary_stats = summary_stats.round(2)\n",
    "\n",
    "# Calculate autocorrelations for lags 1, 2, and 12\n",
    "lags = [1, 2, 12]\n",
    "autocorrelations = {f'lag_{lag}': MOMexp[['SMB', 'MOM', 'Mkt-RF', 'Mkt']].apply(lambda x: x.autocorr(lag)) for lag in lags}\n",
    "autocorr_df = pd.DataFrame(autocorrelations).transpose().round(2)\n",
    "\n",
    "# Calculate correlations\n",
    "correlations = MOMexp[['SMB', 'MOM', 'Mkt-RF']].corr().round(2)\n",
    "print(summary_stats)\n",
    "print(autocorr_df)\n",
    "print(correlations)"
   ]
  },
  {
   "cell_type": "markdown",
   "metadata": {},
   "source": [
    "Construction of lower part of table 8"
   ]
  },
  {
   "cell_type": "code",
   "execution_count": 85,
   "metadata": {},
   "outputs": [],
   "source": [
    "MOMdep_25 = MOMdep.drop(columns = [\"Date\", \"Market Return\", \"RF\"]) \n",
    "# Find excess return\n",
    "MOMdep_25_excess = MOMdep_25.copy()\n",
    "for i in MOMdep_25.columns.values:\n",
    "    MOMdep_25_excess[i] = MOMdep_25[i]  -  MOMdep[\"RF\"]\n",
    "MOMdep_25_excess = MOMdep_25_excess.rename(columns = {\"SMALL LoPRIOR\": \"ME1 PRIOR1\",\n",
    "                                            \"SMALL HiPRIOR\": \"ME1 PRIOR5\",\n",
    "                                            \"BIG LoPRIOR\": \"ME5 PRIOR1\",\n",
    "                                            \"BIG HiPRIOR\": \"ME5 PRIOR5\"})\n",
    "Utils.table_2_lower(MOMdep_25_excess).round(2)\n",
    "MOMexp = MOMexp[[\"Date\",\"Mkt-RF\", \"SMB\", \"MOM\"]]\n"
   ]
  },
  {
   "cell_type": "markdown",
   "metadata": {},
   "source": [
    "## Regressions\n",
    "We are now ready to do the regressions."
   ]
  },
  {
   "cell_type": "markdown",
   "metadata": {},
   "source": [
    "This is table 9"
   ]
  },
  {
   "cell_type": "code",
   "execution_count": 86,
   "metadata": {},
   "outputs": [],
   "source": [
    "# Regression: \n",
    "def regression(dep,exp,rf):\n",
    "    var = dep.columns.drop([\"Date\", \"Market Return\", \"RF\"])\n",
    "    params = pd.DataFrame(columns =[\"a\", \"b\",\"s\",\"m\",\"R2/s(e)\"])\n",
    "    tvals =  pd.DataFrame(columns =[\"a\", \"b\",\"s\",\"m\", \"R2/s(e)\"])\n",
    "    X = np.array(exp).reshape(len(exp),len(exp.columns))\n",
    "    X = sm.add_constant(X)\n",
    "    for v in var:\n",
    "        y = np.array(dep[v])  - np.array(rf[\"RF\"]) \n",
    "        linmod = sm.OLS(y,X)\n",
    "        results = linmod.fit()\n",
    "        coef = pd.DataFrame([np.append(results.params.round(2),results.rsquared.round(2))],\n",
    "                            columns=[\"a\", \"b\",\"s\",\"m\",\"R2/s(e)\"])\n",
    "        ttest = pd.DataFrame([np.append(results.tvalues.round(2),np.sqrt(results.mse_resid).round(4))],\n",
    "                            columns=[\"a\", \"b\",\"s\",\"m\", \"R2/s(e)\"])\n",
    "        params = pd.concat([params,coef], ignore_index=True)\n",
    "        tvals =  pd.concat([tvals,ttest], ignore_index=True)\n",
    "    return params, tvals\n",
    "\n",
    "# params # Relatively close - > So assume it is correct."
   ]
  },
  {
   "cell_type": "code",
   "execution_count": 87,
   "metadata": {},
   "outputs": [
    {
     "name": "stderr",
     "output_type": "stream",
     "text": [
      "C:\\Users\\andre\\AppData\\Local\\Temp\\ipykernel_16864\\1640027238.py:16: FutureWarning: The behavior of DataFrame concatenation with empty or all-NA entries is deprecated. In a future version, this will no longer exclude empty or all-NA columns when determining the result dtypes. To retain the old behavior, exclude the relevant entries before the concat operation.\n",
      "  params = pd.concat([params,coef], ignore_index=True)\n",
      "C:\\Users\\andre\\AppData\\Local\\Temp\\ipykernel_16864\\1640027238.py:17: FutureWarning: The behavior of DataFrame concatenation with empty or all-NA entries is deprecated. In a future version, this will no longer exclude empty or all-NA columns when determining the result dtypes. To retain the old behavior, exclude the relevant entries before the concat operation.\n",
      "  tvals =  pd.concat([tvals,ttest], ignore_index=True)\n",
      "C:\\Users\\andre\\AppData\\Local\\Temp\\ipykernel_16864\\1640027238.py:16: FutureWarning: The behavior of DataFrame concatenation with empty or all-NA entries is deprecated. In a future version, this will no longer exclude empty or all-NA columns when determining the result dtypes. To retain the old behavior, exclude the relevant entries before the concat operation.\n",
      "  params = pd.concat([params,coef], ignore_index=True)\n",
      "C:\\Users\\andre\\AppData\\Local\\Temp\\ipykernel_16864\\1640027238.py:17: FutureWarning: The behavior of DataFrame concatenation with empty or all-NA entries is deprecated. In a future version, this will no longer exclude empty or all-NA columns when determining the result dtypes. To retain the old behavior, exclude the relevant entries before the concat operation.\n",
      "  tvals =  pd.concat([tvals,ttest], ignore_index=True)\n",
      "C:\\Users\\andre\\AppData\\Local\\Temp\\ipykernel_16864\\1640027238.py:16: FutureWarning: The behavior of DataFrame concatenation with empty or all-NA entries is deprecated. In a future version, this will no longer exclude empty or all-NA columns when determining the result dtypes. To retain the old behavior, exclude the relevant entries before the concat operation.\n",
      "  params = pd.concat([params,coef], ignore_index=True)\n",
      "C:\\Users\\andre\\AppData\\Local\\Temp\\ipykernel_16864\\1640027238.py:17: FutureWarning: The behavior of DataFrame concatenation with empty or all-NA entries is deprecated. In a future version, this will no longer exclude empty or all-NA columns when determining the result dtypes. To retain the old behavior, exclude the relevant entries before the concat operation.\n",
      "  tvals =  pd.concat([tvals,ttest], ignore_index=True)\n",
      "C:\\Users\\andre\\AppData\\Local\\Temp\\ipykernel_16864\\1640027238.py:16: FutureWarning: The behavior of DataFrame concatenation with empty or all-NA entries is deprecated. In a future version, this will no longer exclude empty or all-NA columns when determining the result dtypes. To retain the old behavior, exclude the relevant entries before the concat operation.\n",
      "  params = pd.concat([params,coef], ignore_index=True)\n",
      "C:\\Users\\andre\\AppData\\Local\\Temp\\ipykernel_16864\\1640027238.py:17: FutureWarning: The behavior of DataFrame concatenation with empty or all-NA entries is deprecated. In a future version, this will no longer exclude empty or all-NA columns when determining the result dtypes. To retain the old behavior, exclude the relevant entries before the concat operation.\n",
      "  tvals =  pd.concat([tvals,ttest], ignore_index=True)\n",
      "C:\\Users\\andre\\AppData\\Local\\Temp\\ipykernel_16864\\1640027238.py:16: FutureWarning: The behavior of DataFrame concatenation with empty or all-NA entries is deprecated. In a future version, this will no longer exclude empty or all-NA columns when determining the result dtypes. To retain the old behavior, exclude the relevant entries before the concat operation.\n",
      "  params = pd.concat([params,coef], ignore_index=True)\n",
      "C:\\Users\\andre\\AppData\\Local\\Temp\\ipykernel_16864\\1640027238.py:17: FutureWarning: The behavior of DataFrame concatenation with empty or all-NA entries is deprecated. In a future version, this will no longer exclude empty or all-NA columns when determining the result dtypes. To retain the old behavior, exclude the relevant entries before the concat operation.\n",
      "  tvals =  pd.concat([tvals,ttest], ignore_index=True)\n"
     ]
    }
   ],
   "source": [
    "# Create output table: \n",
    "# Generate table:\n",
    "def out_array(param,dep,exp,rf):\n",
    "    p = param\n",
    "    params, tvals = regression(dep,exp,rf)\n",
    "    N = np.sqrt(len(params[p]))\n",
    "    parameter = np.array(params[p]).reshape((int(N),int(N)))\n",
    "    ttest = np.array(tvals[p]).reshape((int(N),int(N)))\n",
    "    tab = np.append(parameter,ttest,axis=1)\n",
    "    tabdf = pd.DataFrame(tab, columns=pd.MultiIndex.from_tuples(\n",
    "                          [(r\"\\beta/R^2\",\"LPrior\"), (\"\",\"2\"), (\"\",\"3\"), (\"\",\"4\"), (\"\",\"HPrior\"),\n",
    "                           (r\"t(\\beta)/s(e)\",\"LPrior\"), (\"\",\"2\"), (\"\",\"3\"), (\"\",\"4\"), (\"\",\"HPrior\")]))\n",
    "    tabdf = tabdf.set_index([pd.Index([param,\"\", \"\", \"\", \"\"]),pd.Index([\"S\", \"2\", \"3\", \"4\", \"B\"])])\n",
    "\n",
    "    return  tabdf\n",
    "\n",
    "dep = MOMdep.copy()\n",
    "exp = MOMexp.copy()\n",
    "rf = FF.copy()\n",
    "exp = exp.drop(columns = \"Date\")\n",
    "rf = FF.drop(columns = \"Date\")\n",
    "\n",
    "a = out_array(\"a\", dep, exp, rf)\n",
    "b = out_array(\"b\", dep, exp, rf)\n",
    "s = out_array(\"s\", dep, exp, rf)\n",
    "m = out_array(\"m\", dep, exp, rf)\n",
    "R2_se = out_array(\"R2/s(e)\", dep, exp, rf)\n",
    "tab = pd.concat([a,b,s,m, R2_se])\n",
    "\n",
    "# This checks thas sqrt MSE of residuals is essentially s(e)\n",
    "# print(results.mse_resid, np.sum(results.resid**2) / results.df_resid)\n",
    "# So to get standard error one needs a squareroot.\n"
   ]
  },
  {
   "cell_type": "code",
   "execution_count": 88,
   "metadata": {},
   "outputs": [
    {
     "name": "stdout",
     "output_type": "stream",
     "text": [
      "\\begin{table}\n",
      "\\caption{Regression: R(t)-RF(t)=a + b [RM(t) - RF(t)] + sSMB(t) + m MOM(t) +e(t)}\n",
      "\\label{tab:regression}\n",
      "\\begin{tabular}{llrrrrrrrrrr}\n",
      "\\toprule\n",
      " &  & \\beta/R^2 & \\multicolumn{4}{r}{} & t(\\beta)/s(e) & \\multicolumn{4}{r}{} \\\\\n",
      " &  & LPrior & 2 & 3 & 4 & HPrior & LPrior & 2 & 3 & 4 & HPrior \\\\\n",
      "\\midrule\n",
      "a & S & -0.09 & 0.31 & 0.43 & 0.27 & 0.25 & -1.01 & 3.47 & 4.86 & 2.74 & 2.52 \\\\\n",
      "\\cline{1-12}\n",
      "\\multirow[t]{4}{*}{} & 2 & -0.23 & 0.16 & 0.18 & 0.18 & 0.11 & -4.02 & 2.85 & 2.86 & 2.96 & 1.78 \\\\\n",
      " & 3 & -0.13 & 0.14 & 0.13 & 0.04 & 0.05 & -2.01 & 2.68 & 2.42 & 0.83 & 0.82 \\\\\n",
      " & 4 & -0.02 & 0.12 & 0.14 & 0.07 & 0.07 & -0.20 & 2.03 & 2.63 & 1.37 & 1.11 \\\\\n",
      " & B & 0.10 & 0.19 & 0.09 & 0.04 & -0.08 & 1.09 & 3.59 & 1.99 & 0.86 & -1.52 \\\\\n",
      "\\cline{1-12}\n",
      "b & S & 1.04 & 0.97 & 0.92 & 1.00 & 1.07 & 57.71 & 52.90 & 51.05 & 49.65 & 53.89 \\\\\n",
      "\\cline{1-12}\n",
      "\\multirow[t]{4}{*}{} & 2 & 1.15 & 1.00 & 0.97 & 0.99 & 1.14 & 99.48 & 90.82 & 76.91 & 82.12 & 93.12 \\\\\n",
      " & 3 & 1.17 & 1.05 & 1.00 & 0.98 & 1.12 & 88.91 & 97.80 & 90.80 & 92.46 & 96.45 \\\\\n",
      " & 4 & 1.23 & 1.09 & 1.01 & 1.05 & 1.12 & 72.03 & 92.15 & 90.05 & 94.37 & 92.86 \\\\\n",
      " & B & 1.14 & 0.99 & 0.99 & 1.00 & 1.10 & 62.82 & 93.35 & 105.03 & 110.51 & 103.80 \\\\\n",
      "\\cline{1-12}\n",
      "s & S & 1.51 & 1.42 & 1.31 & 1.32 & 1.33 & 56.71 & 52.41 & 49.27 & 44.31 & 45.19 \\\\\n",
      "\\cline{1-12}\n",
      "\\multirow[t]{4}{*}{} & 2 & 1.03 & 0.95 & 0.81 & 0.92 & 1.02 & 60.32 & 58.44 & 43.88 & 51.86 & 56.96 \\\\\n",
      " & 3 & 0.65 & 0.56 & 0.54 & 0.53 & 0.64 & 33.30 & 35.55 & 33.24 & 33.84 & 37.45 \\\\\n",
      " & 4 & 0.30 & 0.19 & 0.24 & 0.23 & 0.37 & 11.94 & 11.11 & 14.87 & 14.26 & 20.47 \\\\\n",
      " & B & -0.11 & -0.20 & -0.14 & -0.17 & -0.02 & -4.06 & -12.65 & -10.34 & -12.73 & -1.50 \\\\\n",
      "\\cline{1-12}\n",
      "m & S & -0.69 & -0.40 & -0.24 & 0.01 & 0.27 & -35.05 & -20.04 & -12.42 & 0.34 & 12.52 \\\\\n",
      "\\cline{1-12}\n",
      "\\multirow[t]{4}{*}{} & 2 & -0.68 & -0.36 & -0.14 & 0.07 & 0.36 & -53.61 & -29.63 & -10.37 & 5.24 & 27.19 \\\\\n",
      " & 3 & -0.75 & -0.37 & -0.18 & 0.10 & 0.44 & -52.40 & -31.53 & -14.62 & 8.24 & 34.91 \\\\\n",
      " & 4 & -0.82 & -0.40 & -0.15 & 0.09 & 0.46 & -44.04 & -30.94 & -12.65 & 7.28 & 34.98 \\\\\n",
      " & B & -0.77 & -0.46 & -0.18 & 0.13 & 0.45 & -38.98 & -39.21 & -17.57 & 13.05 & 39.06 \\\\\n",
      "\\cline{1-12}\n",
      "R2/s(e) & S & 0.92 & 0.90 & 0.88 & 0.86 & 0.86 & 2.96 & 3.00 & 2.94 & 3.31 & 3.26 \\\\\n",
      "\\cline{1-12}\n",
      "\\multirow[t]{4}{*}{} & 2 & 0.96 & 0.95 & 0.92 & 0.92 & 0.93 & 1.89 & 1.81 & 2.05 & 1.98 & 2.00 \\\\\n",
      " & 3 & 0.95 & 0.95 & 0.93 & 0.92 & 0.92 & 2.15 & 1.75 & 1.80 & 1.74 & 1.90 \\\\\n",
      " & 4 & 0.91 & 0.93 & 0.92 & 0.91 & 0.90 & 2.78 & 1.93 & 1.83 & 1.81 & 1.98 \\\\\n",
      " & B & 0.88 & 0.93 & 0.93 & 0.92 & 0.91 & 2.97 & 1.74 & 1.54 & 1.48 & 1.74 \\\\\n",
      "\\cline{1-12}\n",
      "\\bottomrule\n",
      "\\end{tabular}\n",
      "\\end{table}\n",
      "\n"
     ]
    }
   ],
   "source": [
    "# To latex regression tab:\n",
    "latex_table = tab.to_latex(index=True, float_format=\"%.2f\", \n",
    "                           caption=r\"Regression: R(t)-RF(t)=a + b [RM(t) - RF(t)] + sSMB(t) + m MOM(t) +e(t)\", \n",
    "                           label=\"tab:regression\")\n",
    "print(latex_table)\n"
   ]
  },
  {
   "cell_type": "markdown",
   "metadata": {},
   "source": [
    "Now for the Subperiods. \n",
    "192701-196306:"
   ]
  },
  {
   "cell_type": "markdown",
   "metadata": {},
   "source": [
    "Table 10"
   ]
  },
  {
   "cell_type": "code",
   "execution_count": 89,
   "metadata": {},
   "outputs": [
    {
     "name": "stderr",
     "output_type": "stream",
     "text": [
      "C:\\Users\\andre\\AppData\\Local\\Temp\\ipykernel_16864\\1640027238.py:16: FutureWarning: The behavior of DataFrame concatenation with empty or all-NA entries is deprecated. In a future version, this will no longer exclude empty or all-NA columns when determining the result dtypes. To retain the old behavior, exclude the relevant entries before the concat operation.\n",
      "  params = pd.concat([params,coef], ignore_index=True)\n",
      "C:\\Users\\andre\\AppData\\Local\\Temp\\ipykernel_16864\\1640027238.py:17: FutureWarning: The behavior of DataFrame concatenation with empty or all-NA entries is deprecated. In a future version, this will no longer exclude empty or all-NA columns when determining the result dtypes. To retain the old behavior, exclude the relevant entries before the concat operation.\n",
      "  tvals =  pd.concat([tvals,ttest], ignore_index=True)\n",
      "C:\\Users\\andre\\AppData\\Local\\Temp\\ipykernel_16864\\1640027238.py:16: FutureWarning: The behavior of DataFrame concatenation with empty or all-NA entries is deprecated. In a future version, this will no longer exclude empty or all-NA columns when determining the result dtypes. To retain the old behavior, exclude the relevant entries before the concat operation.\n",
      "  params = pd.concat([params,coef], ignore_index=True)\n",
      "C:\\Users\\andre\\AppData\\Local\\Temp\\ipykernel_16864\\1640027238.py:17: FutureWarning: The behavior of DataFrame concatenation with empty or all-NA entries is deprecated. In a future version, this will no longer exclude empty or all-NA columns when determining the result dtypes. To retain the old behavior, exclude the relevant entries before the concat operation.\n",
      "  tvals =  pd.concat([tvals,ttest], ignore_index=True)\n",
      "C:\\Users\\andre\\AppData\\Local\\Temp\\ipykernel_16864\\1640027238.py:16: FutureWarning: The behavior of DataFrame concatenation with empty or all-NA entries is deprecated. In a future version, this will no longer exclude empty or all-NA columns when determining the result dtypes. To retain the old behavior, exclude the relevant entries before the concat operation.\n",
      "  params = pd.concat([params,coef], ignore_index=True)\n"
     ]
    },
    {
     "name": "stdout",
     "output_type": "stream",
     "text": [
      "\\begin{table}\n",
      "\\caption{Subperiod: 192701-196306, Regression: R(t)-RF(t)=a + b [RM(t) - RF(t)] + sSMB(t) + m MOM(t) +e(t)}\n",
      "\\label{tab:regression}\n",
      "\\begin{tabular}{llrrrrrrrrrr}\n",
      "\\toprule\n",
      " &  & \\beta/R^2 & \\multicolumn{4}{r}{} & t(\\beta)/s(e) & \\multicolumn{4}{r}{} \\\\\n",
      " &  & LPrior & 2 & 3 & 4 & HPrior & LPrior & 2 & 3 & 4 & HPrior \\\\\n",
      "\\midrule\n",
      "m & S & -0.74 & -0.48 & -0.35 & 0.04 & 0.24 & -19.42 & -13.01 & -9.79 & 0.80 & 5.17 \\\\\n",
      "\\cline{1-12}\n",
      "\\multirow[t]{4}{*}{} & 2 & -0.69 & -0.38 & -0.19 & 0.12 & 0.32 & -31.73 & -17.99 & -7.03 & 4.52 & 14.38 \\\\\n",
      " & 3 & -0.78 & -0.38 & -0.17 & 0.15 & 0.44 & -34.54 & -19.19 & -8.29 & 8.07 & 20.61 \\\\\n",
      " & 4 & -0.83 & -0.39 & -0.12 & 0.14 & 0.45 & -25.52 & -17.56 & -5.94 & 6.80 & 20.74 \\\\\n",
      " & B & -0.78 & -0.44 & -0.24 & 0.12 & 0.42 & -21.40 & -22.80 & -15.42 & 7.60 & 21.70 \\\\\n",
      "\\cline{1-12}\n",
      "\\bottomrule\n",
      "\\end{tabular}\n",
      "\\end{table}\n",
      "\n"
     ]
    },
    {
     "name": "stderr",
     "output_type": "stream",
     "text": [
      "C:\\Users\\andre\\AppData\\Local\\Temp\\ipykernel_16864\\1640027238.py:17: FutureWarning: The behavior of DataFrame concatenation with empty or all-NA entries is deprecated. In a future version, this will no longer exclude empty or all-NA columns when determining the result dtypes. To retain the old behavior, exclude the relevant entries before the concat operation.\n",
      "  tvals =  pd.concat([tvals,ttest], ignore_index=True)\n",
      "C:\\Users\\andre\\AppData\\Local\\Temp\\ipykernel_16864\\1640027238.py:16: FutureWarning: The behavior of DataFrame concatenation with empty or all-NA entries is deprecated. In a future version, this will no longer exclude empty or all-NA columns when determining the result dtypes. To retain the old behavior, exclude the relevant entries before the concat operation.\n",
      "  params = pd.concat([params,coef], ignore_index=True)\n",
      "C:\\Users\\andre\\AppData\\Local\\Temp\\ipykernel_16864\\1640027238.py:17: FutureWarning: The behavior of DataFrame concatenation with empty or all-NA entries is deprecated. In a future version, this will no longer exclude empty or all-NA columns when determining the result dtypes. To retain the old behavior, exclude the relevant entries before the concat operation.\n",
      "  tvals =  pd.concat([tvals,ttest], ignore_index=True)\n",
      "C:\\Users\\andre\\AppData\\Local\\Temp\\ipykernel_16864\\1640027238.py:16: FutureWarning: The behavior of DataFrame concatenation with empty or all-NA entries is deprecated. In a future version, this will no longer exclude empty or all-NA columns when determining the result dtypes. To retain the old behavior, exclude the relevant entries before the concat operation.\n",
      "  params = pd.concat([params,coef], ignore_index=True)\n",
      "C:\\Users\\andre\\AppData\\Local\\Temp\\ipykernel_16864\\1640027238.py:17: FutureWarning: The behavior of DataFrame concatenation with empty or all-NA entries is deprecated. In a future version, this will no longer exclude empty or all-NA columns when determining the result dtypes. To retain the old behavior, exclude the relevant entries before the concat operation.\n",
      "  tvals =  pd.concat([tvals,ttest], ignore_index=True)\n"
     ]
    }
   ],
   "source": [
    "dep = MOMdep.copy()\n",
    "exp = MOMexp.copy()\n",
    "rf = FF.copy()\n",
    "dep = dep[(dep[\"Date\"]<'1963-07-31')]\n",
    "exp = exp[(exp[\"Date\"]<'1963-07-31')].drop(columns = \"Date\")\n",
    "rf = rf[( rf[\"Date\"]<'1963-07-31')].drop(columns = \"Date\")\n",
    "\n",
    "\n",
    "a = out_array(\"a\", dep, exp, rf)\n",
    "b = out_array(\"b\", dep, exp, rf)\n",
    "s = out_array(\"s\", dep, exp, rf)\n",
    "m = out_array(\"m\", dep, exp, rf)\n",
    "R2_se = out_array(\"R2/s(e)\", dep, exp, rf)\n",
    "tab = pd.concat([m])\n",
    "\n",
    "# To latex regression tab:\n",
    "latex_table = tab.to_latex(index=True, float_format=\"%.2f\", \n",
    "                           caption=r\"Subperiod: 192701-196306, Regression: R(t)-RF(t)=a + b [RM(t) - RF(t)] + sSMB(t) + m MOM(t) +e(t)\", \n",
    "                           label=\"tab:regression\")\n",
    "print(latex_table)"
   ]
  },
  {
   "cell_type": "markdown",
   "metadata": {},
   "source": [
    "196307-199112\n"
   ]
  },
  {
   "cell_type": "markdown",
   "metadata": {},
   "source": [
    "Table 11"
   ]
  },
  {
   "cell_type": "code",
   "execution_count": 90,
   "metadata": {},
   "outputs": [
    {
     "name": "stderr",
     "output_type": "stream",
     "text": [
      "C:\\Users\\andre\\AppData\\Local\\Temp\\ipykernel_16864\\1640027238.py:16: FutureWarning: The behavior of DataFrame concatenation with empty or all-NA entries is deprecated. In a future version, this will no longer exclude empty or all-NA columns when determining the result dtypes. To retain the old behavior, exclude the relevant entries before the concat operation.\n",
      "  params = pd.concat([params,coef], ignore_index=True)\n",
      "C:\\Users\\andre\\AppData\\Local\\Temp\\ipykernel_16864\\1640027238.py:17: FutureWarning: The behavior of DataFrame concatenation with empty or all-NA entries is deprecated. In a future version, this will no longer exclude empty or all-NA columns when determining the result dtypes. To retain the old behavior, exclude the relevant entries before the concat operation.\n",
      "  tvals =  pd.concat([tvals,ttest], ignore_index=True)\n",
      "C:\\Users\\andre\\AppData\\Local\\Temp\\ipykernel_16864\\1640027238.py:16: FutureWarning: The behavior of DataFrame concatenation with empty or all-NA entries is deprecated. In a future version, this will no longer exclude empty or all-NA columns when determining the result dtypes. To retain the old behavior, exclude the relevant entries before the concat operation.\n",
      "  params = pd.concat([params,coef], ignore_index=True)\n",
      "C:\\Users\\andre\\AppData\\Local\\Temp\\ipykernel_16864\\1640027238.py:17: FutureWarning: The behavior of DataFrame concatenation with empty or all-NA entries is deprecated. In a future version, this will no longer exclude empty or all-NA columns when determining the result dtypes. To retain the old behavior, exclude the relevant entries before the concat operation.\n",
      "  tvals =  pd.concat([tvals,ttest], ignore_index=True)\n",
      "C:\\Users\\andre\\AppData\\Local\\Temp\\ipykernel_16864\\1640027238.py:16: FutureWarning: The behavior of DataFrame concatenation with empty or all-NA entries is deprecated. In a future version, this will no longer exclude empty or all-NA columns when determining the result dtypes. To retain the old behavior, exclude the relevant entries before the concat operation.\n",
      "  params = pd.concat([params,coef], ignore_index=True)\n",
      "C:\\Users\\andre\\AppData\\Local\\Temp\\ipykernel_16864\\1640027238.py:17: FutureWarning: The behavior of DataFrame concatenation with empty or all-NA entries is deprecated. In a future version, this will no longer exclude empty or all-NA columns when determining the result dtypes. To retain the old behavior, exclude the relevant entries before the concat operation.\n",
      "  tvals =  pd.concat([tvals,ttest], ignore_index=True)\n",
      "C:\\Users\\andre\\AppData\\Local\\Temp\\ipykernel_16864\\1640027238.py:16: FutureWarning: The behavior of DataFrame concatenation with empty or all-NA entries is deprecated. In a future version, this will no longer exclude empty or all-NA columns when determining the result dtypes. To retain the old behavior, exclude the relevant entries before the concat operation.\n",
      "  params = pd.concat([params,coef], ignore_index=True)\n",
      "C:\\Users\\andre\\AppData\\Local\\Temp\\ipykernel_16864\\1640027238.py:17: FutureWarning: The behavior of DataFrame concatenation with empty or all-NA entries is deprecated. In a future version, this will no longer exclude empty or all-NA columns when determining the result dtypes. To retain the old behavior, exclude the relevant entries before the concat operation.\n",
      "  tvals =  pd.concat([tvals,ttest], ignore_index=True)\n"
     ]
    },
    {
     "name": "stdout",
     "output_type": "stream",
     "text": [
      "\\begin{table}\n",
      "\\caption{Subperiod: 196307-199112, Regression: R(t)-RF(t)=a + b [RM(t) - RF(t)] + sSMB(t) + m MOM(t) +e(t)}\n",
      "\\label{tab:regression}\n",
      "\\begin{tabular}{llrrrrrrrrrr}\n",
      "\\toprule\n",
      " &  & \\beta/R^2 & \\multicolumn{4}{r}{} & t(\\beta)/s(e) & \\multicolumn{4}{r}{} \\\\\n",
      " &  & LPrior & 2 & 3 & 4 & HPrior & LPrior & 2 & 3 & 4 & HPrior \\\\\n",
      "\\midrule\n",
      "s & S & 1.39 & 1.16 & 1.13 & 1.11 & 1.26 & 39.54 & 44.99 & 45.19 & 44.81 & 37.96 \\\\\n",
      "\\cline{1-12}\n",
      "\\multirow[t]{4}{*}{} & 2 & 0.96 & 0.83 & 0.78 & 0.84 & 0.89 & 30.09 & 33.46 & 33.62 & 35.36 & 26.31 \\\\\n",
      " & 3 & 0.65 & 0.55 & 0.55 & 0.55 & 0.68 & 17.60 & 20.44 & 21.36 & 21.45 & 20.60 \\\\\n",
      " & 4 & 0.31 & 0.21 & 0.28 & 0.26 & 0.39 & 7.16 & 6.99 & 10.09 & 9.44 & 11.24 \\\\\n",
      " & B & -0.17 & -0.27 & -0.20 & -0.22 & -0.02 & -3.94 & -9.19 & -7.28 & -9.04 & -0.49 \\\\\n",
      "\\cline{1-12}\n",
      "\\bottomrule\n",
      "\\end{tabular}\n",
      "\\end{table}\n",
      "\n"
     ]
    },
    {
     "name": "stderr",
     "output_type": "stream",
     "text": [
      "C:\\Users\\andre\\AppData\\Local\\Temp\\ipykernel_16864\\1640027238.py:16: FutureWarning: The behavior of DataFrame concatenation with empty or all-NA entries is deprecated. In a future version, this will no longer exclude empty or all-NA columns when determining the result dtypes. To retain the old behavior, exclude the relevant entries before the concat operation.\n",
      "  params = pd.concat([params,coef], ignore_index=True)\n",
      "C:\\Users\\andre\\AppData\\Local\\Temp\\ipykernel_16864\\1640027238.py:17: FutureWarning: The behavior of DataFrame concatenation with empty or all-NA entries is deprecated. In a future version, this will no longer exclude empty or all-NA columns when determining the result dtypes. To retain the old behavior, exclude the relevant entries before the concat operation.\n",
      "  tvals =  pd.concat([tvals,ttest], ignore_index=True)\n"
     ]
    }
   ],
   "source": [
    "dep = MOMdep.copy()\n",
    "exp = MOMexp.copy()\n",
    "rf = FF.copy()\n",
    "dep = dep[(dep[\"Date\"]>='1963-07-31') & (dep[\"Date\"]<='1991-12-31')]\n",
    "exp = exp[(exp[\"Date\"]>='1963-07-31')& (exp[\"Date\"]<='1991-12-31')].drop(columns = \"Date\")\n",
    "rf = rf[( rf[\"Date\"]>='1963-07-31')& (rf[\"Date\"]<='1991-12-31')].drop(columns = \"Date\")\n",
    "\n",
    "\n",
    "a = out_array(\"a\", dep, exp, rf)\n",
    "b = out_array(\"b\", dep, exp, rf)\n",
    "s = out_array(\"s\", dep, exp, rf)\n",
    "m = out_array(\"m\", dep, exp, rf)\n",
    "R2_se = out_array(\"R2/s(e)\", dep, exp, rf)\n",
    "tab = pd.concat([s])\n",
    "\n",
    "# To latex regression tab:\n",
    "latex_table = tab.to_latex(index=True, float_format=\"%.2f\", \n",
    "                           caption=r\"Subperiod: 196307-199112, Regression: R(t)-RF(t)=a + b [RM(t) - RF(t)] + sSMB(t) + m MOM(t) +e(t)\", \n",
    "                           label=\"tab:regression\")\n",
    "print(latex_table)"
   ]
  },
  {
   "cell_type": "code",
   "execution_count": 91,
   "metadata": {},
   "outputs": [
    {
     "data": {
      "text/plain": [
       "array([[0.07, 0.1 , 0.06, 0.06, 0.03],\n",
       "       [0.04, 0.15, 0.1 , 0.11, 0.  ],\n",
       "       [0.11, 0.1 , 0.05, 0.07, 0.02],\n",
       "       [0.06, 0.12, 0.01, 0.02, 0.02],\n",
       "       [0.  , 0.15, 0.03, 0.05, 0.03]])"
      ]
     },
     "execution_count": 91,
     "metadata": {},
     "output_type": "execute_result"
    }
   ],
   "source": [
    "# Comparison to Farma-French table:\n",
    "tst = np.abs(np.array(tab).reshape((5,10))[:,:5] - np.array([\n",
    "                                                [1.46,1.26,1.19,1.17,1.23],\n",
    "                                                [1.00,0.98,0.88,0.73,0.89],\n",
    "                                                [0.76,0.65,0.60,0.48,0.66],\n",
    "                                                [0.37,0.33,0.29,0.24,0.41],\n",
    "                                                [-0.17,-0.12,-0.23,-0.17,-0.05]\n",
    "                                                ]))\n",
    "tst"
   ]
  },
  {
   "cell_type": "markdown",
   "metadata": {},
   "source": [
    "199201-202312"
   ]
  },
  {
   "cell_type": "markdown",
   "metadata": {},
   "source": [
    "Table 12"
   ]
  },
  {
   "cell_type": "code",
   "execution_count": 92,
   "metadata": {},
   "outputs": [
    {
     "name": "stderr",
     "output_type": "stream",
     "text": [
      "C:\\Users\\andre\\AppData\\Local\\Temp\\ipykernel_16864\\1640027238.py:16: FutureWarning: The behavior of DataFrame concatenation with empty or all-NA entries is deprecated. In a future version, this will no longer exclude empty or all-NA columns when determining the result dtypes. To retain the old behavior, exclude the relevant entries before the concat operation.\n",
      "  params = pd.concat([params,coef], ignore_index=True)\n",
      "C:\\Users\\andre\\AppData\\Local\\Temp\\ipykernel_16864\\1640027238.py:17: FutureWarning: The behavior of DataFrame concatenation with empty or all-NA entries is deprecated. In a future version, this will no longer exclude empty or all-NA columns when determining the result dtypes. To retain the old behavior, exclude the relevant entries before the concat operation.\n",
      "  tvals =  pd.concat([tvals,ttest], ignore_index=True)\n",
      "C:\\Users\\andre\\AppData\\Local\\Temp\\ipykernel_16864\\1640027238.py:16: FutureWarning: The behavior of DataFrame concatenation with empty or all-NA entries is deprecated. In a future version, this will no longer exclude empty or all-NA columns when determining the result dtypes. To retain the old behavior, exclude the relevant entries before the concat operation.\n",
      "  params = pd.concat([params,coef], ignore_index=True)\n",
      "C:\\Users\\andre\\AppData\\Local\\Temp\\ipykernel_16864\\1640027238.py:17: FutureWarning: The behavior of DataFrame concatenation with empty or all-NA entries is deprecated. In a future version, this will no longer exclude empty or all-NA columns when determining the result dtypes. To retain the old behavior, exclude the relevant entries before the concat operation.\n",
      "  tvals =  pd.concat([tvals,ttest], ignore_index=True)\n",
      "C:\\Users\\andre\\AppData\\Local\\Temp\\ipykernel_16864\\1640027238.py:16: FutureWarning: The behavior of DataFrame concatenation with empty or all-NA entries is deprecated. In a future version, this will no longer exclude empty or all-NA columns when determining the result dtypes. To retain the old behavior, exclude the relevant entries before the concat operation.\n",
      "  params = pd.concat([params,coef], ignore_index=True)\n",
      "C:\\Users\\andre\\AppData\\Local\\Temp\\ipykernel_16864\\1640027238.py:17: FutureWarning: The behavior of DataFrame concatenation with empty or all-NA entries is deprecated. In a future version, this will no longer exclude empty or all-NA columns when determining the result dtypes. To retain the old behavior, exclude the relevant entries before the concat operation.\n",
      "  tvals =  pd.concat([tvals,ttest], ignore_index=True)\n",
      "C:\\Users\\andre\\AppData\\Local\\Temp\\ipykernel_16864\\1640027238.py:16: FutureWarning: The behavior of DataFrame concatenation with empty or all-NA entries is deprecated. In a future version, this will no longer exclude empty or all-NA columns when determining the result dtypes. To retain the old behavior, exclude the relevant entries before the concat operation.\n",
      "  params = pd.concat([params,coef], ignore_index=True)\n",
      "C:\\Users\\andre\\AppData\\Local\\Temp\\ipykernel_16864\\1640027238.py:17: FutureWarning: The behavior of DataFrame concatenation with empty or all-NA entries is deprecated. In a future version, this will no longer exclude empty or all-NA columns when determining the result dtypes. To retain the old behavior, exclude the relevant entries before the concat operation.\n",
      "  tvals =  pd.concat([tvals,ttest], ignore_index=True)\n"
     ]
    },
    {
     "name": "stdout",
     "output_type": "stream",
     "text": [
      "\\begin{table}\n",
      "\\caption{Subperiod: 199201-202312, Regression: R(t)-RF(t)=a + b [RM(t) - RF(t)] + sSMB(t) + m MOM(t) +e(t)}\n",
      "\\label{tab:regression}\n",
      "\\begin{tabular}{llrrrrrrrrrr}\n",
      "\\toprule\n",
      " &  & \\beta/R^2 & \\multicolumn{4}{r}{} & t(\\beta)/s(e) & \\multicolumn{4}{r}{} \\\\\n",
      " &  & LPrior & 2 & 3 & 4 & HPrior & LPrior & 2 & 3 & 4 & HPrior \\\\\n",
      "\\midrule\n",
      "m & S & -0.71 & -0.26 & -0.10 & 0.02 & 0.29 & -23.62 & -13.33 & -4.97 & 1.06 & 11.18 \\\\\n",
      "\\cline{1-12}\n",
      "\\multirow[t]{4}{*}{} & 2 & -0.73 & -0.32 & -0.09 & 0.03 & 0.40 & -36.53 & -16.77 & -4.62 & 1.37 & 17.84 \\\\\n",
      " & 3 & -0.77 & -0.33 & -0.17 & 0.03 & 0.42 & -29.51 & -16.10 & -8.09 & 1.21 & 21.42 \\\\\n",
      " & 4 & -0.85 & -0.39 & -0.16 & 0.04 & 0.46 & -27.99 & -18.04 & -7.95 & 1.98 & 20.56 \\\\\n",
      " & B & -0.80 & -0.45 & -0.13 & 0.10 & 0.44 & -24.90 & -23.57 & -7.67 & 5.96 & 24.11 \\\\\n",
      "\\cline{1-12}\n",
      "\\bottomrule\n",
      "\\end{tabular}\n",
      "\\end{table}\n",
      "\n"
     ]
    },
    {
     "name": "stderr",
     "output_type": "stream",
     "text": [
      "C:\\Users\\andre\\AppData\\Local\\Temp\\ipykernel_16864\\1640027238.py:16: FutureWarning: The behavior of DataFrame concatenation with empty or all-NA entries is deprecated. In a future version, this will no longer exclude empty or all-NA columns when determining the result dtypes. To retain the old behavior, exclude the relevant entries before the concat operation.\n",
      "  params = pd.concat([params,coef], ignore_index=True)\n",
      "C:\\Users\\andre\\AppData\\Local\\Temp\\ipykernel_16864\\1640027238.py:17: FutureWarning: The behavior of DataFrame concatenation with empty or all-NA entries is deprecated. In a future version, this will no longer exclude empty or all-NA columns when determining the result dtypes. To retain the old behavior, exclude the relevant entries before the concat operation.\n",
      "  tvals =  pd.concat([tvals,ttest], ignore_index=True)\n"
     ]
    }
   ],
   "source": [
    "dep = MOMdep.copy()\n",
    "exp = MOMexp.copy()\n",
    "rf = FF.copy()\n",
    "dep = dep[(dep[\"Date\"]>='1992-01-31') & (dep[\"Date\"]<='2023-12-31')]\n",
    "exp = exp[(exp[\"Date\"]>='1992-01-31')& (exp[\"Date\"]<='2023-12-31')].drop(columns = \"Date\")\n",
    "rf = rf[( rf[\"Date\"]>='1992-01-31')& (rf[\"Date\"]<='2023-12-31')].drop(columns = \"Date\")\n",
    "\n",
    "\n",
    "a = out_array(\"a\", dep, exp, rf)\n",
    "b = out_array(\"b\", dep, exp, rf)\n",
    "s = out_array(\"s\", dep, exp, rf)\n",
    "m = out_array(\"m\", dep, exp, rf)\n",
    "R2_se = out_array(\"R2/s(e)\", dep, exp, rf)\n",
    "tab = pd.concat([m])\n",
    "\n",
    "# To latex regression tab:\n",
    "latex_table = tab.to_latex(index=True, float_format=\"%.2f\", \n",
    "                           caption=r\"Subperiod: 199201-202312, Regression: R(t)-RF(t)=a + b [RM(t) - RF(t)] + sSMB(t) + m MOM(t) +e(t)\", \n",
    "                           label=\"tab:regression\")\n",
    "print(latex_table)"
   ]
  },
  {
   "cell_type": "markdown",
   "metadata": {},
   "source": [
    "Selected period 1980-2023"
   ]
  },
  {
   "cell_type": "markdown",
   "metadata": {},
   "source": [
    "Table 13"
   ]
  },
  {
   "cell_type": "code",
   "execution_count": 93,
   "metadata": {},
   "outputs": [
    {
     "name": "stderr",
     "output_type": "stream",
     "text": [
      "C:\\Users\\andre\\AppData\\Local\\Temp\\ipykernel_16864\\1640027238.py:16: FutureWarning: The behavior of DataFrame concatenation with empty or all-NA entries is deprecated. In a future version, this will no longer exclude empty or all-NA columns when determining the result dtypes. To retain the old behavior, exclude the relevant entries before the concat operation.\n",
      "  params = pd.concat([params,coef], ignore_index=True)\n",
      "C:\\Users\\andre\\AppData\\Local\\Temp\\ipykernel_16864\\1640027238.py:17: FutureWarning: The behavior of DataFrame concatenation with empty or all-NA entries is deprecated. In a future version, this will no longer exclude empty or all-NA columns when determining the result dtypes. To retain the old behavior, exclude the relevant entries before the concat operation.\n",
      "  tvals =  pd.concat([tvals,ttest], ignore_index=True)\n",
      "C:\\Users\\andre\\AppData\\Local\\Temp\\ipykernel_16864\\1640027238.py:16: FutureWarning: The behavior of DataFrame concatenation with empty or all-NA entries is deprecated. In a future version, this will no longer exclude empty or all-NA columns when determining the result dtypes. To retain the old behavior, exclude the relevant entries before the concat operation.\n",
      "  params = pd.concat([params,coef], ignore_index=True)\n",
      "C:\\Users\\andre\\AppData\\Local\\Temp\\ipykernel_16864\\1640027238.py:17: FutureWarning: The behavior of DataFrame concatenation with empty or all-NA entries is deprecated. In a future version, this will no longer exclude empty or all-NA columns when determining the result dtypes. To retain the old behavior, exclude the relevant entries before the concat operation.\n",
      "  tvals =  pd.concat([tvals,ttest], ignore_index=True)\n",
      "C:\\Users\\andre\\AppData\\Local\\Temp\\ipykernel_16864\\1640027238.py:16: FutureWarning: The behavior of DataFrame concatenation with empty or all-NA entries is deprecated. In a future version, this will no longer exclude empty or all-NA columns when determining the result dtypes. To retain the old behavior, exclude the relevant entries before the concat operation.\n",
      "  params = pd.concat([params,coef], ignore_index=True)\n",
      "C:\\Users\\andre\\AppData\\Local\\Temp\\ipykernel_16864\\1640027238.py:17: FutureWarning: The behavior of DataFrame concatenation with empty or all-NA entries is deprecated. In a future version, this will no longer exclude empty or all-NA columns when determining the result dtypes. To retain the old behavior, exclude the relevant entries before the concat operation.\n",
      "  tvals =  pd.concat([tvals,ttest], ignore_index=True)\n",
      "C:\\Users\\andre\\AppData\\Local\\Temp\\ipykernel_16864\\1640027238.py:16: FutureWarning: The behavior of DataFrame concatenation with empty or all-NA entries is deprecated. In a future version, this will no longer exclude empty or all-NA columns when determining the result dtypes. To retain the old behavior, exclude the relevant entries before the concat operation.\n",
      "  params = pd.concat([params,coef], ignore_index=True)\n",
      "C:\\Users\\andre\\AppData\\Local\\Temp\\ipykernel_16864\\1640027238.py:17: FutureWarning: The behavior of DataFrame concatenation with empty or all-NA entries is deprecated. In a future version, this will no longer exclude empty or all-NA columns when determining the result dtypes. To retain the old behavior, exclude the relevant entries before the concat operation.\n",
      "  tvals =  pd.concat([tvals,ttest], ignore_index=True)\n"
     ]
    },
    {
     "name": "stdout",
     "output_type": "stream",
     "text": [
      "\\begin{table}\n",
      "\\caption{Subperiod: 198001-202312, Regression: R(t)-RF(t)=a + b [RM(t) - RF(t)] + sSMB(t) + m MOM(t) +e(t)}\n",
      "\\label{tab:regression}\n",
      "\\begin{tabular}{llrrrrrrrrrr}\n",
      "\\toprule\n",
      " &  & \\beta/R^2 & \\multicolumn{4}{r}{} & t(\\beta)/s(e) & \\multicolumn{4}{r}{} \\\\\n",
      " &  & LPrior & 2 & 3 & 4 & HPrior & LPrior & 2 & 3 & 4 & HPrior \\\\\n",
      "\\midrule\n",
      "m & S & -0.67 & -0.25 & -0.09 & 0.05 & 0.29 & -27.00 & -15.93 & -5.08 & 2.81 & 13.94 \\\\\n",
      "\\cline{1-12}\n",
      "\\multirow[t]{4}{*}{} & 2 & -0.71 & -0.31 & -0.08 & 0.05 & 0.37 & -41.41 & -20.09 & -5.21 & 3.00 & 20.16 \\\\\n",
      " & 3 & -0.76 & -0.34 & -0.16 & 0.05 & 0.41 & -35.13 & -20.07 & -9.28 & 2.64 & 23.94 \\\\\n",
      " & 4 & -0.86 & -0.40 & -0.16 & 0.07 & 0.45 & -32.82 & -21.72 & -9.44 & 4.00 & 24.06 \\\\\n",
      " & B & -0.82 & -0.45 & -0.11 & 0.14 & 0.47 & -29.86 & -28.31 & -7.97 & 9.93 & 29.57 \\\\\n",
      "\\cline{1-12}\n",
      "\\bottomrule\n",
      "\\end{tabular}\n",
      "\\end{table}\n",
      "\n"
     ]
    },
    {
     "name": "stderr",
     "output_type": "stream",
     "text": [
      "C:\\Users\\andre\\AppData\\Local\\Temp\\ipykernel_16864\\1640027238.py:16: FutureWarning: The behavior of DataFrame concatenation with empty or all-NA entries is deprecated. In a future version, this will no longer exclude empty or all-NA columns when determining the result dtypes. To retain the old behavior, exclude the relevant entries before the concat operation.\n",
      "  params = pd.concat([params,coef], ignore_index=True)\n",
      "C:\\Users\\andre\\AppData\\Local\\Temp\\ipykernel_16864\\1640027238.py:17: FutureWarning: The behavior of DataFrame concatenation with empty or all-NA entries is deprecated. In a future version, this will no longer exclude empty or all-NA columns when determining the result dtypes. To retain the old behavior, exclude the relevant entries before the concat operation.\n",
      "  tvals =  pd.concat([tvals,ttest], ignore_index=True)\n"
     ]
    }
   ],
   "source": [
    "dep = MOMdep.copy()\n",
    "exp = MOMexp.copy()\n",
    "rf = FF.copy()\n",
    "dep = dep[(dep[\"Date\"]>='1980-01-31') & (dep[\"Date\"]<='2023-12-31')]\n",
    "exp = exp[(exp[\"Date\"]>='1980-01-31') & (exp[\"Date\"]<='2023-12-31')].drop(columns = \"Date\")\n",
    "rf = rf[ (rf[\"Date\"]>='1980-01-31')& (rf[\"Date\"]<='2023-12-31')].drop(columns = \"Date\")\n",
    "\n",
    "\n",
    "a = out_array(\"a\", dep, exp, rf)\n",
    "b = out_array(\"b\", dep, exp, rf)\n",
    "s = out_array(\"s\", dep, exp, rf)\n",
    "m = out_array(\"m\", dep, exp, rf)\n",
    "R2_se = out_array(\"R2/s(e)\", dep, exp, rf)\n",
    "tab = pd.concat([m])\n",
    "\n",
    "# To latex regression tab:\n",
    "latex_table = tab.to_latex(index=True, float_format=\"%.2f\", \n",
    "                           caption=r\"Subperiod: 198001-202312, Regression: R(t)-RF(t)=a + b [RM(t) - RF(t)] + sSMB(t) + m MOM(t) +e(t)\", \n",
    "                           label=\"tab:regression\")\n",
    "print(latex_table)"
   ]
  },
  {
   "cell_type": "markdown",
   "metadata": {},
   "source": [
    "### Appendix: Replicate tables and similarly from FF.\n",
    "Here, we produce code to do things similarly to the original paper.\n",
    "Not included in project!!"
   ]
  },
  {
   "cell_type": "code",
   "execution_count": 94,
   "metadata": {},
   "outputs": [
    {
     "name": "stderr",
     "output_type": "stream",
     "text": [
      "C:\\Users\\andre\\AppData\\Local\\Temp\\ipykernel_16864\\3332267119.py:3: SettingWithCopyWarning: \n",
      "A value is trying to be set on a copy of a slice from a DataFrame.\n",
      "Try using .loc[row_indexer,col_indexer] = value instead\n",
      "\n",
      "See the caveats in the documentation: https://pandas.pydata.org/pandas-docs/stable/user_guide/indexing.html#returning-a-view-versus-a-copy\n",
      "  OFF[\"Mkt-RF\"], OFF[\"SMB\"], OFF[\"HML\"] = OFF[\"Mkt-RF\"], OFF[\"SMB\"], OFF[\"HML\"]\n"
     ]
    }
   ],
   "source": [
    "# Take july 1963 to december 1991\n",
    "OFF = FF[(FF[\"Date\"]>='1963-07-31') & ( FF[\"Date\"]<'1992-01-31')] \n",
    "OFF[\"Mkt-RF\"], OFF[\"SMB\"], OFF[\"HML\"] = OFF[\"Mkt-RF\"], OFF[\"SMB\"], OFF[\"HML\"] \n",
    "RF = OFF[\"RF\"]\n",
    "OFF = OFF[[\"Mkt-RF\", \"SMB\", \"HML\"]]"
   ]
  },
  {
   "cell_type": "code",
   "execution_count": 95,
   "metadata": {},
   "outputs": [
    {
     "data": {
      "text/html": [
       "<div>\n",
       "<style scoped>\n",
       "    .dataframe tbody tr th:only-of-type {\n",
       "        vertical-align: middle;\n",
       "    }\n",
       "\n",
       "    .dataframe tbody tr th {\n",
       "        vertical-align: top;\n",
       "    }\n",
       "\n",
       "    .dataframe thead th {\n",
       "        text-align: right;\n",
       "    }\n",
       "</style>\n",
       "<table border=\"1\" class=\"dataframe\">\n",
       "  <thead>\n",
       "    <tr style=\"text-align: right;\">\n",
       "      <th></th>\n",
       "      <th>Mkt-RF</th>\n",
       "      <th>SMB</th>\n",
       "      <th>HML</th>\n",
       "    </tr>\n",
       "  </thead>\n",
       "  <tbody>\n",
       "    <tr>\n",
       "      <th>438</th>\n",
       "      <td>-0.39</td>\n",
       "      <td>-0.45</td>\n",
       "      <td>-0.97</td>\n",
       "    </tr>\n",
       "    <tr>\n",
       "      <th>439</th>\n",
       "      <td>5.07</td>\n",
       "      <td>-0.98</td>\n",
       "      <td>1.80</td>\n",
       "    </tr>\n",
       "    <tr>\n",
       "      <th>440</th>\n",
       "      <td>-1.57</td>\n",
       "      <td>-0.33</td>\n",
       "      <td>0.13</td>\n",
       "    </tr>\n",
       "    <tr>\n",
       "      <th>441</th>\n",
       "      <td>2.53</td>\n",
       "      <td>-0.58</td>\n",
       "      <td>-0.10</td>\n",
       "    </tr>\n",
       "    <tr>\n",
       "      <th>442</th>\n",
       "      <td>-0.85</td>\n",
       "      <td>-1.17</td>\n",
       "      <td>1.75</td>\n",
       "    </tr>\n",
       "    <tr>\n",
       "      <th>...</th>\n",
       "      <td>...</td>\n",
       "      <td>...</td>\n",
       "      <td>...</td>\n",
       "    </tr>\n",
       "    <tr>\n",
       "      <th>775</th>\n",
       "      <td>2.32</td>\n",
       "      <td>1.58</td>\n",
       "      <td>-0.78</td>\n",
       "    </tr>\n",
       "    <tr>\n",
       "      <th>776</th>\n",
       "      <td>-1.59</td>\n",
       "      <td>1.64</td>\n",
       "      <td>-1.08</td>\n",
       "    </tr>\n",
       "    <tr>\n",
       "      <th>777</th>\n",
       "      <td>1.29</td>\n",
       "      <td>0.81</td>\n",
       "      <td>-0.47</td>\n",
       "    </tr>\n",
       "    <tr>\n",
       "      <th>778</th>\n",
       "      <td>-4.19</td>\n",
       "      <td>-0.50</td>\n",
       "      <td>-1.89</td>\n",
       "    </tr>\n",
       "    <tr>\n",
       "      <th>779</th>\n",
       "      <td>10.84</td>\n",
       "      <td>-2.24</td>\n",
       "      <td>-4.17</td>\n",
       "    </tr>\n",
       "  </tbody>\n",
       "</table>\n",
       "<p>342 rows × 3 columns</p>\n",
       "</div>"
      ],
      "text/plain": [
       "     Mkt-RF   SMB   HML\n",
       "438   -0.39 -0.45 -0.97\n",
       "439    5.07 -0.98  1.80\n",
       "440   -1.57 -0.33  0.13\n",
       "441    2.53 -0.58 -0.10\n",
       "442   -0.85 -1.17  1.75\n",
       "..      ...   ...   ...\n",
       "775    2.32  1.58 -0.78\n",
       "776   -1.59  1.64 -1.08\n",
       "777    1.29  0.81 -0.47\n",
       "778   -4.19 -0.50 -1.89\n",
       "779   10.84 -2.24 -4.17\n",
       "\n",
       "[342 rows x 3 columns]"
      ]
     },
     "execution_count": 95,
     "metadata": {},
     "output_type": "execute_result"
    }
   ],
   "source": [
    "# Read subparts of FF data. \n",
    "pf_25_vwr = pd.read_csv(\"Data/25_Portfolios_5x5.csv\", skiprows=15, nrows = 1171)\n",
    "pf_25_vwr = pf_25_vwr.rename(columns = {\"Unnamed: 0\" : \"Date\"})\n",
    "pf_25_vwr[\"Date\"] = pd.to_datetime(pf_25_vwr[\"Date\"], format=\"%Y%m\") + pd.offsets.MonthEnd()\n",
    "pf_25_vwr = pf_25_vwr[(pf_25_vwr[\"Date\"]<pd.Timestamp('1992-01-31')) & (pf_25_vwr[\"Date\"]>=pd.Timestamp('1963-07-31'))] \n",
    "pf_25_vwr = pf_25_vwr.set_index(\"Date\").sort_index(ascending=True).reset_index()\n",
    "\n",
    "# Note for this i have renamed the variables to easier replicate table.\n",
    "pf_25_nf = pd.read_csv(\"Data/25_Portfolios_5x5.csv\", skiprows=2581, nrows = 1171)\n",
    "pf_25_nf = pf_25_nf.rename(columns = {\"Unnamed: 0\" : \"Date\"})\n",
    "pf_25_nf[\"Date\"] = pd.to_datetime(pf_25_nf[\"Date\"], format=\"%Y%m\") + pd.offsets.MonthEnd()\n",
    "pf_25_nf = pf_25_nf[(pf_25_nf[\"Date\"]<pd.Timestamp('1992-01-31')) & (pf_25_nf[\"Date\"]>=pd.Timestamp('1963-07-31'))] \n",
    "pf_25_nf = pf_25_nf.set_index(\"Date\").sort_index(ascending=True).reset_index()\n",
    "\n",
    "pf_25_nf[\"Y\"] =  pf_25_nf['Date'].dt.year\n",
    "\n",
    "OFF"
   ]
  },
  {
   "cell_type": "code",
   "execution_count": 96,
   "metadata": {},
   "outputs": [
    {
     "data": {
      "text/html": [
       "<div>\n",
       "<style scoped>\n",
       "    .dataframe tbody tr th:only-of-type {\n",
       "        vertical-align: middle;\n",
       "    }\n",
       "\n",
       "    .dataframe tbody tr th {\n",
       "        vertical-align: top;\n",
       "    }\n",
       "\n",
       "    .dataframe thead tr th {\n",
       "        text-align: left;\n",
       "    }\n",
       "\n",
       "    .dataframe thead tr:last-of-type th {\n",
       "        text-align: right;\n",
       "    }\n",
       "</style>\n",
       "<table border=\"1\" class=\"dataframe\">\n",
       "  <thead>\n",
       "    <tr>\n",
       "      <th></th>\n",
       "      <th colspan=\"5\" halign=\"left\">mean</th>\n",
       "      <th colspan=\"5\" halign=\"left\">std</th>\n",
       "      <th colspan=\"5\" halign=\"left\">t-test of mean</th>\n",
       "    </tr>\n",
       "    <tr>\n",
       "      <th>PRIOR</th>\n",
       "      <th>PRIOR1</th>\n",
       "      <th>PRIOR2</th>\n",
       "      <th>PRIOR3</th>\n",
       "      <th>PRIOR4</th>\n",
       "      <th>PRIOR5</th>\n",
       "      <th>PRIOR1</th>\n",
       "      <th>PRIOR2</th>\n",
       "      <th>PRIOR3</th>\n",
       "      <th>PRIOR4</th>\n",
       "      <th>PRIOR5</th>\n",
       "      <th>PRIOR1</th>\n",
       "      <th>PRIOR2</th>\n",
       "      <th>PRIOR3</th>\n",
       "      <th>PRIOR4</th>\n",
       "      <th>PRIOR5</th>\n",
       "    </tr>\n",
       "    <tr>\n",
       "      <th>ME</th>\n",
       "      <th></th>\n",
       "      <th></th>\n",
       "      <th></th>\n",
       "      <th></th>\n",
       "      <th></th>\n",
       "      <th></th>\n",
       "      <th></th>\n",
       "      <th></th>\n",
       "      <th></th>\n",
       "      <th></th>\n",
       "      <th></th>\n",
       "      <th></th>\n",
       "      <th></th>\n",
       "      <th></th>\n",
       "      <th></th>\n",
       "    </tr>\n",
       "  </thead>\n",
       "  <tbody>\n",
       "    <tr>\n",
       "      <th>ME1</th>\n",
       "      <td>0.781475</td>\n",
       "      <td>1.143816</td>\n",
       "      <td>1.210045</td>\n",
       "      <td>1.344637</td>\n",
       "      <td>1.466232</td>\n",
       "      <td>7.756928</td>\n",
       "      <td>6.770919</td>\n",
       "      <td>6.283119</td>\n",
       "      <td>5.926139</td>\n",
       "      <td>6.271099</td>\n",
       "      <td>1.863108</td>\n",
       "      <td>3.124076</td>\n",
       "      <td>3.561553</td>\n",
       "      <td>4.196103</td>\n",
       "      <td>4.323866</td>\n",
       "    </tr>\n",
       "    <tr>\n",
       "      <th>ME2</th>\n",
       "      <td>0.865895</td>\n",
       "      <td>1.114516</td>\n",
       "      <td>1.314024</td>\n",
       "      <td>1.377328</td>\n",
       "      <td>1.470441</td>\n",
       "      <td>7.270707</td>\n",
       "      <td>6.283741</td>\n",
       "      <td>5.740120</td>\n",
       "      <td>5.339751</td>\n",
       "      <td>6.015569</td>\n",
       "      <td>2.202428</td>\n",
       "      <td>3.280054</td>\n",
       "      <td>4.233459</td>\n",
       "      <td>4.770122</td>\n",
       "      <td>4.520474</td>\n",
       "    </tr>\n",
       "    <tr>\n",
       "      <th>ME3</th>\n",
       "      <td>0.908361</td>\n",
       "      <td>1.126064</td>\n",
       "      <td>1.141475</td>\n",
       "      <td>1.305888</td>\n",
       "      <td>1.407142</td>\n",
       "      <td>6.657011</td>\n",
       "      <td>5.726420</td>\n",
       "      <td>5.166071</td>\n",
       "      <td>4.931202</td>\n",
       "      <td>5.693645</td>\n",
       "      <td>2.523437</td>\n",
       "      <td>3.636577</td>\n",
       "      <td>4.086194</td>\n",
       "      <td>4.897407</td>\n",
       "      <td>4.570468</td>\n",
       "    </tr>\n",
       "    <tr>\n",
       "      <th>ME4</th>\n",
       "      <td>0.926296</td>\n",
       "      <td>0.847008</td>\n",
       "      <td>1.069941</td>\n",
       "      <td>1.268404</td>\n",
       "      <td>1.367421</td>\n",
       "      <td>5.894195</td>\n",
       "      <td>5.424643</td>\n",
       "      <td>5.059844</td>\n",
       "      <td>4.938601</td>\n",
       "      <td>5.646482</td>\n",
       "      <td>2.906287</td>\n",
       "      <td>2.887548</td>\n",
       "      <td>3.910530</td>\n",
       "      <td>4.749706</td>\n",
       "      <td>4.478548</td>\n",
       "    </tr>\n",
       "    <tr>\n",
       "      <th>ME5</th>\n",
       "      <td>0.842677</td>\n",
       "      <td>0.807513</td>\n",
       "      <td>0.828277</td>\n",
       "      <td>0.976060</td>\n",
       "      <td>1.005841</td>\n",
       "      <td>4.888186</td>\n",
       "      <td>4.709419</td>\n",
       "      <td>4.365330</td>\n",
       "      <td>4.289873</td>\n",
       "      <td>4.779291</td>\n",
       "      <td>3.188060</td>\n",
       "      <td>3.170993</td>\n",
       "      <td>3.508903</td>\n",
       "      <td>4.207704</td>\n",
       "      <td>3.892055</td>\n",
       "    </tr>\n",
       "  </tbody>\n",
       "</table>\n",
       "</div>"
      ],
      "text/plain": [
       "           mean                                               std            \\\n",
       "PRIOR    PRIOR1    PRIOR2    PRIOR3    PRIOR4    PRIOR5    PRIOR1    PRIOR2   \n",
       "ME                                                                            \n",
       "ME1    0.781475  1.143816  1.210045  1.344637  1.466232  7.756928  6.770919   \n",
       "ME2    0.865895  1.114516  1.314024  1.377328  1.470441  7.270707  6.283741   \n",
       "ME3    0.908361  1.126064  1.141475  1.305888  1.407142  6.657011  5.726420   \n",
       "ME4    0.926296  0.847008  1.069941  1.268404  1.367421  5.894195  5.424643   \n",
       "ME5    0.842677  0.807513  0.828277  0.976060  1.005841  4.888186  4.709419   \n",
       "\n",
       "                                    t-test of mean                      \\\n",
       "PRIOR    PRIOR3    PRIOR4    PRIOR5         PRIOR1    PRIOR2    PRIOR3   \n",
       "ME                                                                       \n",
       "ME1    6.283119  5.926139  6.271099       1.863108  3.124076  3.561553   \n",
       "ME2    5.740120  5.339751  6.015569       2.202428  3.280054  4.233459   \n",
       "ME3    5.166071  4.931202  5.693645       2.523437  3.636577  4.086194   \n",
       "ME4    5.059844  4.938601  5.646482       2.906287  2.887548  3.910530   \n",
       "ME5    4.365330  4.289873  4.779291       3.188060  3.170993  3.508903   \n",
       "\n",
       "                           \n",
       "PRIOR    PRIOR4    PRIOR5  \n",
       "ME                         \n",
       "ME1    4.196103  4.323866  \n",
       "ME2    4.770122  4.520474  \n",
       "ME3    4.897407  4.570468  \n",
       "ME4    4.749706  4.478548  \n",
       "ME5    4.207704  3.892055  "
      ]
     },
     "execution_count": 96,
     "metadata": {},
     "output_type": "execute_result"
    }
   ],
   "source": [
    "# Subtable 2 latter part.\n",
    "pf_25_vwr_e = pf_25_vwr.drop(columns = [\"Date\", \"Market Return\"]).copy() \n",
    "# Find excess return\n",
    "for i in pf_25_vwr_e.columns.values:\n",
    "    pf_25_vwr_e[i] = pf_25_vwr[i]  -  FF[\"RF\"] \n",
    "Utils.table_2_lower(pf_25_vwr_e)"
   ]
  },
  {
   "cell_type": "code",
   "execution_count": 97,
   "metadata": {},
   "outputs": [
    {
     "name": "stderr",
     "output_type": "stream",
     "text": [
      "C:\\Users\\andre\\AppData\\Local\\Temp\\ipykernel_16864\\203538234.py:16: FutureWarning: The behavior of DataFrame concatenation with empty or all-NA entries is deprecated. In a future version, this will no longer exclude empty or all-NA columns when determining the result dtypes. To retain the old behavior, exclude the relevant entries before the concat operation.\n",
      "  params = pd.concat([params,coef], ignore_index=True)\n",
      "C:\\Users\\andre\\AppData\\Local\\Temp\\ipykernel_16864\\203538234.py:17: FutureWarning: The behavior of DataFrame concatenation with empty or all-NA entries is deprecated. In a future version, this will no longer exclude empty or all-NA columns when determining the result dtypes. To retain the old behavior, exclude the relevant entries before the concat operation.\n",
      "  tvals =  pd.concat([tvals,ttest], ignore_index=True)\n"
     ]
    }
   ],
   "source": [
    "# Regression: \n",
    "\n",
    "var = pf_25_vwr.columns.drop([\"Date\", \"Market Return\"])\n",
    "params = pd.DataFrame(columns =[\"a\", \"b\",\"s\",\"h\",\"R2/s(e)\"])\n",
    "tvals =  pd.DataFrame(columns =[\"a\", \"b\",\"s\",\"h\", \"R2/s(e)\"])\n",
    "X = np.array(OFF).reshape(len(OFF),len(OFF.columns))\n",
    "X = sm.add_constant(X)\n",
    "for v in var:\n",
    "    y = np.array(pf_25_vwr[v])  - np.array(RF) \n",
    "    linmod = sm.OLS(y,X)\n",
    "    results = linmod.fit()\n",
    "    coef = pd.DataFrame([np.append(results.params.round(2),results.rsquared.round(2))],\n",
    "                        columns=[\"a\", \"b\",\"s\",\"h\",\"R2/s(e)\"])\n",
    "    ttest = pd.DataFrame([np.append(results.tvalues.round(2),np.sqrt(results.mse_resid).round(4))],\n",
    "                         columns=[\"a\", \"b\",\"s\",\"h\", \"R2/s(e)\"])\n",
    "    params = pd.concat([params,coef], ignore_index=True)\n",
    "    tvals =  pd.concat([tvals,ttest], ignore_index=True)\n",
    "\n",
    "#params # Relatively close - > So assume it is correct. \n",
    "\n"
   ]
  },
  {
   "cell_type": "code",
   "execution_count": 98,
   "metadata": {},
   "outputs": [],
   "source": [
    "# Generate table:\n",
    "def out_array(param):\n",
    "    p = param\n",
    "    N = np.sqrt(len(params[p]))\n",
    "    parameter = np.array(params[p]).reshape((int(N),int(N)))\n",
    "    ttest = np.array(tvals[p]).reshape((int(N),int(N)))\n",
    "    tab = np.append(parameter,ttest,axis=1)\n",
    "    tabdf = pd.DataFrame(tab, columns=pd.MultiIndex.from_tuples(\n",
    "                          [(r\"\\beta/R^2\",\"L\"), (\"\",\"2\"), (\"\",\"3\"), (\"\",\"4\"), (\"\",\"H\"),\n",
    "                           (r\"t(\\beta)/s(e)\",\"L\"), (\"\",\"2\"), (\"\",\"3\"), (\"\",\"4\"), (\"\",\"H\")]))\n",
    "    tabdf = tabdf.set_index([pd.Index([param,\"\", \"\", \"\", \"\"]),pd.Index([\"S\", \"2\", \"3\", \"4\", \"B\"])])\n",
    "\n",
    "    return tabdf\n",
    "\n",
    "a = out_array(\"a\")\n",
    "b = out_array(\"b\")\n",
    "s = out_array(\"s\")\n",
    "h = out_array(\"h\")\n",
    "R2_se = out_array(\"R2/s(e)\")\n",
    "tab = pd.concat([a,b,s,h,R2_se])\n"
   ]
  },
  {
   "cell_type": "code",
   "execution_count": 99,
   "metadata": {},
   "outputs": [
    {
     "name": "stdout",
     "output_type": "stream",
     "text": [
      "\\begin{table}\n",
      "\\caption{Original FF}\n",
      "\\label{tab:sample_table}\n",
      "\\begin{tabular}{llrrrrrrrrrr}\n",
      "\\toprule\n",
      " &  & \\beta/R^2 & \\multicolumn{4}{r}{} & t(\\beta)/s(e) & \\multicolumn{4}{r}{} \\\\\n",
      " &  & L & 2 & 3 & 4 & H & L & 2 & 3 & 4 & H \\\\\n",
      "\\midrule\n",
      "a & S & -0.37 & -0.09 & -0.06 & 0.06 & 0.06 & -3.46 & -1.10 & -0.88 & 1.02 & 0.87 \\\\\n",
      "\\cline{1-12}\n",
      "\\multirow[t]{4}{*}{} & 2 & -0.14 & -0.03 & 0.14 & 0.15 & 0.08 & -1.66 & -0.50 & 2.05 & 2.37 & 1.12 \\\\\n",
      " & 3 & -0.03 & 0.06 & 0.01 & 0.13 & 0.06 & -0.44 & 0.78 & 0.18 & 1.86 & 0.71 \\\\\n",
      " & 4 & 0.12 & -0.14 & -0.01 & 0.10 & 0.05 & 1.52 & -1.69 & -0.07 & 1.19 & 0.50 \\\\\n",
      " & B & 0.20 & -0.02 & -0.04 & -0.06 & -0.16 & 2.98 & -0.34 & -0.49 & -0.80 & -1.52 \\\\\n",
      "\\cline{1-12}\n",
      "b & S & 1.04 & 0.97 & 0.94 & 0.90 & 0.95 & 39.29 & 49.91 & 58.25 & 59.85 & 58.02 \\\\\n",
      "\\cline{1-12}\n",
      "\\multirow[t]{4}{*}{} & 2 & 1.10 & 1.02 & 0.97 & 0.97 & 1.07 & 53.85 & 60.04 & 59.48 & 63.28 & 63.37 \\\\\n",
      " & 3 & 1.10 & 1.02 & 0.97 & 0.98 & 1.06 & 59.46 & 57.17 & 54.26 & 58.77 & 50.69 \\\\\n",
      " & 4 & 1.06 & 1.07 & 1.04 & 1.04 & 1.15 & 56.88 & 51.69 & 51.74 & 50.93 & 46.50 \\\\\n",
      " & B & 0.96 & 1.02 & 0.97 & 1.00 & 1.04 & 57.96 & 57.14 & 44.01 & 54.08 & 39.30 \\\\\n",
      "\\cline{1-12}\n",
      "s & S & 1.41 & 1.27 & 1.16 & 1.11 & 1.19 & 35.77 & 43.90 & 48.06 & 49.41 & 48.63 \\\\\n",
      "\\cline{1-12}\n",
      "\\multirow[t]{4}{*}{} & 2 & 1.00 & 0.93 & 0.85 & 0.70 & 0.86 & 32.96 & 36.69 & 35.13 & 30.67 & 34.11 \\\\\n",
      " & 3 & 0.70 & 0.64 & 0.53 & 0.44 & 0.65 & 25.43 & 23.86 & 19.94 & 17.94 & 20.87 \\\\\n",
      " & 4 & 0.30 & 0.28 & 0.23 & 0.24 & 0.35 & 10.64 & 8.94 & 7.71 & 7.97 & 9.45 \\\\\n",
      " & B & -0.20 & -0.19 & -0.27 & -0.20 & -0.05 & -8.09 & -7.09 & -8.17 & -7.22 & -1.34 \\\\\n",
      "\\cline{1-12}\n",
      "h & S & -0.30 & 0.08 & 0.28 & 0.40 & 0.62 & -6.71 & 2.40 & 10.20 & 15.79 & 22.37 \\\\\n",
      "\\cline{1-12}\n",
      "\\multirow[t]{4}{*}{} & 2 & -0.47 & 0.04 & 0.23 & 0.47 & 0.69 & -13.83 & 1.32 & 8.51 & 18.33 & 24.24 \\\\\n",
      " & 3 & -0.43 & 0.04 & 0.31 & 0.51 & 0.71 & -13.84 & 1.21 & 10.40 & 18.18 & 20.09 \\\\\n",
      " & 4 & -0.45 & 0.02 & 0.31 & 0.56 & 0.74 & -14.31 & 0.70 & 9.11 & 16.34 & 17.89 \\\\\n",
      " & B & -0.44 & -0.01 & 0.20 & 0.56 & 0.76 & -15.81 & -0.46 & 5.44 & 17.98 & 17.15 \\\\\n",
      "\\cline{1-12}\n",
      "R2/s(e) & S & 0.94 & 0.96 & 0.96 & 0.97 & 0.96 & 1.94 & 1.42 & 1.19 & 1.10 & 1.21 \\\\\n",
      "\\cline{1-12}\n",
      "\\multirow[t]{4}{*}{} & 2 & 0.96 & 0.96 & 0.96 & 0.96 & 0.96 & 1.50 & 1.25 & 1.19 & 1.12 & 1.24 \\\\\n",
      " & 3 & 0.96 & 0.95 & 0.94 & 0.94 & 0.93 & 1.36 & 1.31 & 1.32 & 1.22 & 1.54 \\\\\n",
      " & 4 & 0.95 & 0.92 & 0.92 & 0.91 & 0.90 & 1.37 & 1.52 & 1.48 & 1.50 & 1.82 \\\\\n",
      " & B & 0.94 & 0.92 & 0.86 & 0.90 & 0.84 & 1.22 & 1.31 & 1.62 & 1.35 & 1.94 \\\\\n",
      "\\cline{1-12}\n",
      "\\bottomrule\n",
      "\\end{tabular}\n",
      "\\end{table}\n",
      "\n"
     ]
    }
   ],
   "source": [
    "latex_table = tab.to_latex(index=True, float_format=\"%.2f\", caption=\"Original FF\", label=\"tab:sample_table\")\n",
    "print(latex_table)"
   ]
  }
 ],
 "metadata": {
  "kernelspec": {
   "display_name": "Python 3",
   "language": "python",
   "name": "python3"
  },
  "language_info": {
   "codemirror_mode": {
    "name": "ipython",
    "version": 3
   },
   "file_extension": ".py",
   "mimetype": "text/x-python",
   "name": "python",
   "nbconvert_exporter": "python",
   "pygments_lexer": "ipython3",
   "version": "3.12.6"
  }
 },
 "nbformat": 4,
 "nbformat_minor": 2
}
