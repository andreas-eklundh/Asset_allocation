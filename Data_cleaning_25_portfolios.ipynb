{
 "cells": [
  {
   "cell_type": "code",
   "execution_count": 1,
   "metadata": {},
   "outputs": [],
   "source": [
    "# packages\n",
    "import numpy as np\n",
    "import matplotlib.pyplot as plt\n",
    "import pandas as pd\n",
    "import os"
   ]
  },
  {
   "cell_type": "markdown",
   "metadata": {},
   "source": [
    "### Kenneth French 'Market Equity'-data. \n",
    "Now: The portfolios, which are constructed monthly, are the intersections of 5 portfolios formed on size (market equity, ME) and 5 portfolios formed on prior (2-12) return. The monthly size breakpoints are the NYSE market equity quintiles. The monthly prior (2-12) return breakpoints are NYSE quintiles.\n",
    "\n",
    "The portfolios constructed each month include NYSE, AMEX, and NASDAQ stocks with prior return data. To be included in a portfolio for month t in the monthly returns (formed at the end of month t-1), a stock must have a price for the end of month t-13 and a good return for t-2. In addition, any missing returns from t-12 to t-3 must be -99.0, CRSP's code for a missing price. Each included stock also must have ME for the end of month t-1."
   ]
  },
  {
   "cell_type": "markdown",
   "metadata": {},
   "source": [
    "### Average Value Weighted Returns -- Monthly:"
   ]
  },
  {
   "cell_type": "code",
   "execution_count": 2,
   "metadata": {},
   "outputs": [],
   "source": [
    "pf_25_vwr = pd.read_csv(\"Data/25_Portfolios_ME_Prior_12_2.csv\", skiprows=11, nrows = 1171)\n",
    "pf_25_vwr = pf_25_vwr.rename(columns = {\"Unnamed: 0\" : \"Date\"})\n",
    "pf_25_vwr[\"Date\"] = pd.to_datetime(pf_25_vwr[\"Date\"], format=\"%Y%m\") + pd.offsets.MonthEnd()\n",
    "pf_25_vwr = pf_25_vwr[(pf_25_vwr[\"Date\"]<=pd.Timestamp('2023-12-31')) & (pf_25_vwr[\"Date\"]>=pd.Timestamp('1927-01-01'))] \n",
    "pf_25_vwr = pf_25_vwr.set_index(\"Date\").sort_index(ascending=False)"
   ]
  },
  {
   "cell_type": "code",
   "execution_count": 3,
   "metadata": {},
   "outputs": [
    {
     "name": "stdout",
     "output_type": "stream",
     "text": [
      "BIG LoPRIOR    4\n",
      "dtype: int64\n"
     ]
    }
   ],
   "source": [
    "missing_values_vwr = [-99.99, -999]\n",
    "missing_count_vwr = pf_25_vwr.isin(missing_values_vwr).sum()\n",
    "missing_count_vwr = missing_count_vwr[missing_count_vwr > 0]\n",
    "#na_count_vwr = pf_25_vwr.isna().sum()\n",
    "#empty_count_vwr = (pf_25_vwr == '').sum()\n",
    "\n",
    "#print(missing_count_vwr, na_count_vwr, empty_count_vwr)\n",
    "print(missing_count_vwr)"
   ]
  },
  {
   "cell_type": "markdown",
   "metadata": {},
   "source": [
    "Handling missing values:"
   ]
  },
  {
   "cell_type": "code",
   "execution_count": 5,
   "metadata": {},
   "outputs": [],
   "source": [
    "pf_25_vwr.replace(missing_values_vwr, np.nan, inplace=True)\n",
    "column_means = pf_25_vwr.mean()\n",
    "pf_25_vwr.fillna(column_means, inplace=True)"
   ]
  },
  {
   "cell_type": "markdown",
   "metadata": {},
   "source": [
    "### Number of Firms in Portfolios - Monthly:"
   ]
  },
  {
   "cell_type": "code",
   "execution_count": 6,
   "metadata": {},
   "outputs": [],
   "source": [
    "pf_25_nf = pd.read_csv(\"Data/25_Portfolios_ME_Prior_12_2.csv\", skiprows=2563, nrows = 1171)\n",
    "pf_25_nf = pf_25_nf.rename(columns = {\"Unnamed: 0\" : \"Date\"})\n",
    "pf_25_nf[\"Date\"] = pd.to_datetime(pf_25_nf[\"Date\"], format=\"%Y%m\") + pd.offsets.MonthEnd()\n",
    "pf_25_nf = pf_25_nf[(pf_25_nf[\"Date\"]<=pd.Timestamp('2023-12-31')) & (pf_25_nf[\"Date\"]>=pd.Timestamp('1927-01-01'))] \n",
    "pf_25_nf = pf_25_nf.set_index(\"Date\").sort_index(ascending=False)"
   ]
  },
  {
   "cell_type": "code",
   "execution_count": 7,
   "metadata": {},
   "outputs": [
    {
     "name": "stdout",
     "output_type": "stream",
     "text": [
      "Series([], dtype: int64)\n"
     ]
    }
   ],
   "source": [
    "missing_values_nf = [-99.99, -999]\n",
    "missing_count_nf = pf_25_nf.isin(missing_values_nf).sum()\n",
    "missing_count_nf = missing_count_nf[missing_count_nf > 0]\n",
    "\n",
    "#na_count_nf = pf_25_nf.isna().sum()\n",
    "#empty_count_nf = (pf_25_nf == '').sum()\n",
    "\n",
    "#print(missing_count_nf, na_count_nf, empty_count_nf)\n",
    "print(missing_count_nf)"
   ]
  },
  {
   "cell_type": "markdown",
   "metadata": {},
   "source": [
    "### Average Firm Size - Monthly:"
   ]
  },
  {
   "cell_type": "code",
   "execution_count": 8,
   "metadata": {},
   "outputs": [],
   "source": [
    "pf_25_afs = pd.read_csv(\"Data/25_Portfolios_ME_Prior_12_2.csv\", skiprows=3738, nrows = 1171)\n",
    "pf_25_afs = pf_25_afs.rename(columns = {\"Unnamed: 0\" : \"Date\"})\n",
    "pf_25_afs[\"Date\"] = pd.to_datetime(pf_25_afs[\"Date\"], format=\"%Y%m\") + pd.offsets.MonthEnd()\n",
    "pf_25_afs = pf_25_afs[(pf_25_afs[\"Date\"]<=pd.Timestamp('2023-12-31')) & (pf_25_afs[\"Date\"]>=pd.Timestamp('1927-01-01'))] \n",
    "pf_25_afs = pf_25_afs.set_index(\"Date\").sort_index(ascending=False)"
   ]
  },
  {
   "cell_type": "code",
   "execution_count": 9,
   "metadata": {},
   "outputs": [
    {
     "name": "stdout",
     "output_type": "stream",
     "text": [
      "BIG LoPRIOR    4\n",
      "dtype: int64\n"
     ]
    }
   ],
   "source": [
    "missing_values_afs = [-99.99, -999]\n",
    "missing_count_afs = pf_25_afs.isin(missing_values_afs).sum()\n",
    "missing_count_afs = missing_count_afs[missing_count_afs > 0]\n",
    "\n",
    "#na_count_afs = pf_25_afs.isna().sum()\n",
    "#empty_count_afs = (pf_25_afs == '').sum()\n",
    "\n",
    "print(missing_count_afs)\n",
    "#print(missing_count_afs, missing_count_afs, empty_count_afs)"
   ]
  },
  {
   "cell_type": "markdown",
   "metadata": {},
   "source": [
    "Handling missing values:"
   ]
  },
  {
   "cell_type": "code",
   "execution_count": 10,
   "metadata": {},
   "outputs": [],
   "source": [
    "pf_25_afs.replace(missing_values_afs, np.nan, inplace=True)\n",
    "column_means = pf_25_afs.mean()\n",
    "pf_25_afs.fillna(column_means, inplace=True)"
   ]
  },
  {
   "cell_type": "markdown",
   "metadata": {},
   "source": [
    "Callculate entire stock market return:"
   ]
  },
  {
   "cell_type": "code",
   "execution_count": 11,
   "metadata": {},
   "outputs": [],
   "source": [
    "market_cap = pf_25_nf.multiply(pf_25_afs)\n",
    "total_market_cap = market_cap.sum(axis=1)\n",
    "weights = market_cap.divide(total_market_cap, axis=0)\n",
    "weighted_returns = pf_25_vwr.multiply(weights)\n",
    "total_market_return = weighted_returns.sum(axis=1)\n",
    "pf_25_returns = pf_25_vwr.copy()\n",
    "pf_25_returns['Market Return'] = weighted_returns.sum(axis=1).round(2)"
   ]
  },
  {
   "cell_type": "markdown",
   "metadata": {},
   "source": [
    "Gem rensede filer:"
   ]
  },
  {
   "cell_type": "code",
   "execution_count": 15,
   "metadata": {},
   "outputs": [],
   "source": [
    "pf_25_returns.sort_index(ascending=True, inplace=True)\n",
    "pf_25_afs.sort_index(ascending=True, inplace=True)\n",
    "pf_25_nf.sort_index(ascending=True, inplace=True)"
   ]
  },
  {
   "cell_type": "code",
   "execution_count": 16,
   "metadata": {},
   "outputs": [],
   "source": [
    "pf_25_returns.to_csv(\"Data_clean/25_Portfolios_ME_Prior_12_2_returns.csv\")\n",
    "pf_25_afs.to_csv(\"Data_clean/25_Portfolios_ME_Prior_12_2_afs.csv\")\n",
    "pf_25_nf.to_csv(\"Data_clean/25_Portfolios_ME_Prior_12_2_nf.csv\")"
   ]
  }
 ],
 "metadata": {
  "kernelspec": {
   "display_name": "Python 3",
   "language": "python",
   "name": "python3"
  },
  "language_info": {
   "codemirror_mode": {
    "name": "ipython",
    "version": 3
   },
   "file_extension": ".py",
   "mimetype": "text/x-python",
   "name": "python",
   "nbconvert_exporter": "python",
   "pygments_lexer": "ipython3",
   "version": "3.12.6"
  }
 },
 "nbformat": 4,
 "nbformat_minor": 2
}
