{
 "cells": [
  {
   "cell_type": "code",
   "execution_count": 12,
   "metadata": {},
   "outputs": [],
   "source": [
    "import pandas as pd\n",
    "import numpy as np\n",
    "import matplotlib.pyplot as plt\n",
    "from scipy.optimize import minimize"
   ]
  },
  {
   "cell_type": "code",
   "execution_count": 13,
   "metadata": {},
   "outputs": [],
   "source": [
    "stocks = pd.read_csv('Data_clean/6_Portfolios_ME_Prior_12_2_returns.csv')\n",
    "bonds = pd.read_csv('Data_clean/bond_returns.csv')\n",
    "riskfree = pd.read_csv('Data_clean/FF_cleaned.csv')\n",
    "\n",
    "stocks = stocks[['Date', 'Market Return']]\n",
    "stocks = stocks.rename(columns={'Market Return': 'Stock Return'})\n",
    "stocks.set_index('Date', inplace=True)\n",
    "stocks['Stock Return'] = stocks['Stock Return'] / 100\n",
    "\n",
    "bonds = bonds[['Date', '10YrReturns']]\n",
    "bonds = bonds.rename(columns={'10YrReturns': 'Bond Return'})\n",
    "bonds.set_index('Date', inplace=True)\n",
    "\n",
    "riskfree = riskfree[['Date', 'RF']]\n",
    "riskfree.set_index('Date', inplace=True)\n",
    "riskfree['RF'] = riskfree['RF'] / 100\n",
    "\n",
    "data_all = pd.concat([stocks, bonds, riskfree], axis=1)\n",
    "data = data_all[data_all.index >= '1990-01-31']\n",
    "data_minus_rf = data[['Stock Return', 'Bond Return']]"
   ]
  },
  {
   "cell_type": "code",
   "execution_count": 14,
   "metadata": {},
   "outputs": [],
   "source": [
    "target_return = 0.0075\n",
    "mu = data_minus_rf.mean()\n",
    "sigma = data_minus_rf.cov()"
   ]
  },
  {
   "cell_type": "code",
   "execution_count": 15,
   "metadata": {},
   "outputs": [
    {
     "data": {
      "text/plain": [
       "Stock Return    0.009310\n",
       "Bond Return     0.004323\n",
       "dtype: float64"
      ]
     },
     "execution_count": 15,
     "metadata": {},
     "output_type": "execute_result"
    }
   ],
   "source": [
    "mu"
   ]
  },
  {
   "cell_type": "code",
   "execution_count": 16,
   "metadata": {},
   "outputs": [
    {
     "data": {
      "text/html": [
       "<div>\n",
       "<style scoped>\n",
       "    .dataframe tbody tr th:only-of-type {\n",
       "        vertical-align: middle;\n",
       "    }\n",
       "\n",
       "    .dataframe tbody tr th {\n",
       "        vertical-align: top;\n",
       "    }\n",
       "\n",
       "    .dataframe thead th {\n",
       "        text-align: right;\n",
       "    }\n",
       "</style>\n",
       "<table border=\"1\" class=\"dataframe\">\n",
       "  <thead>\n",
       "    <tr style=\"text-align: right;\">\n",
       "      <th></th>\n",
       "      <th>Stock Return</th>\n",
       "      <th>Bond Return</th>\n",
       "    </tr>\n",
       "  </thead>\n",
       "  <tbody>\n",
       "    <tr>\n",
       "      <th>Stock Return</th>\n",
       "      <td>0.001945</td>\n",
       "      <td>-0.000064</td>\n",
       "    </tr>\n",
       "    <tr>\n",
       "      <th>Bond Return</th>\n",
       "      <td>-0.000064</td>\n",
       "      <td>0.000452</td>\n",
       "    </tr>\n",
       "  </tbody>\n",
       "</table>\n",
       "</div>"
      ],
      "text/plain": [
       "              Stock Return  Bond Return\n",
       "Stock Return      0.001945    -0.000064\n",
       "Bond Return      -0.000064     0.000452"
      ]
     },
     "execution_count": 16,
     "metadata": {},
     "output_type": "execute_result"
    }
   ],
   "source": [
    "sigma"
   ]
  },
  {
   "cell_type": "markdown",
   "metadata": {},
   "source": [
    "Markowitz (unleveraged - closed solution):"
   ]
  },
  {
   "cell_type": "code",
   "execution_count": 4,
   "metadata": {},
   "outputs": [],
   "source": [
    "sigma_inv = np.linalg.inv(sigma)\n",
    "ones = np.ones(len(mu))\n",
    "a = mu.transpose() @ sigma_inv @ mu\n",
    "b = mu.transpose() @ sigma_inv @ ones\n",
    "c = ones.transpose() @ sigma_inv @ ones\n",
    "A = np.array([[a, b], [b, c]])\n",
    "A_inv = np.linalg.inv(A)\n",
    "e = np.array([target_return, 1])"
   ]
  },
  {
   "cell_type": "code",
   "execution_count": 5,
   "metadata": {},
   "outputs": [
    {
     "name": "stdout",
     "output_type": "stream",
     "text": [
      "Markowitz (unleveraged):  Bonds 0.363 Stocks 0.637\n",
      "Expected return: 0.0075\n",
      "std: 0.0286\n"
     ]
    }
   ],
   "source": [
    "weights_ma_u = sigma_inv @ np.array([mu,ones]).T @ A_inv @ np.array([target_return, 1])\n",
    "exp_return_ma_u = weights_ma_u @ mu\n",
    "risk_ma_u = np.sqrt(weights_ma_u @ sigma @ weights_ma_u)\n",
    "print('Markowitz (unleveraged): ','Bonds', weights_ma_u[1].round(3), 'Stocks', weights_ma_u[0].round(3))\n",
    "print('Expected return:', (exp_return_ma_u).round(4))\n",
    "print('std:', (risk_ma_u).round(4))"
   ]
  },
  {
   "cell_type": "markdown",
   "metadata": {},
   "source": [
    "Markowitz (unleveraged - scipy optimization):\n"
   ]
  },
  {
   "cell_type": "code",
   "execution_count": 6,
   "metadata": {},
   "outputs": [],
   "source": [
    "def objective(weights, sigma):\n",
    "    return 0.5 * weights @ sigma @ weights\n",
    "\n",
    "constraints = (\n",
    "    {'type': 'eq', 'fun': lambda weights: np.sum(weights) - 1}, \n",
    "    {'type': 'eq', 'fun': lambda weights: np.dot(weights, mu) - target_return}  \n",
    ")\n",
    "bounds = tuple((0, 1) for asset in range(len(mu)))"
   ]
  },
  {
   "cell_type": "code",
   "execution_count": 7,
   "metadata": {},
   "outputs": [
    {
     "name": "stdout",
     "output_type": "stream",
     "text": [
      "Markowitz (unleveraged): [0.637 0.363]\n",
      "Expected return: 0.0075\n",
      "std: 0.0202\n"
     ]
    }
   ],
   "source": [
    "initial_weights = np.array([0.1,0.9])\n",
    "result = minimize(objective, initial_weights, args=(sigma), method='SLSQP', bounds=bounds, constraints=constraints)\n",
    "print(\"Markowitz (unleveraged):\", result.x.round(3))\n",
    "print(\"Expected return:\", np.dot(result.x, mu).round(4))\n",
    "print(\"std:\", np.sqrt(objective(result.x, sigma)).round(4))"
   ]
  },
  {
   "cell_type": "markdown",
   "metadata": {},
   "source": [
    "60/40 strategy:"
   ]
  },
  {
   "cell_type": "code",
   "execution_count": 8,
   "metadata": {},
   "outputs": [
    {
     "name": "stdout",
     "output_type": "stream",
     "text": [
      "60/40: Stocks 0.6 Bonds 0.4\n",
      "Expected return: 0.0073\n",
      "std: 0.0193\n"
     ]
    }
   ],
   "source": [
    "weights_60_40 = np.array([0.6, 0.4])\n",
    "exp_return_60_40 = np.dot(weights_60_40, mu)\n",
    "risk_60_40 = np.sqrt(objective(weights_60_40, sigma))\n",
    "print('60/40:', 'Stocks', weights_60_40[0], 'Bonds', weights_60_40[1])\n",
    "print('Expected return:', exp_return_60_40.round(4))\n",
    "print('std:', risk_60_40.round(4))"
   ]
  },
  {
   "cell_type": "markdown",
   "metadata": {},
   "source": [
    "Markowitz (leveraged - closed solution):"
   ]
  },
  {
   "cell_type": "code",
   "execution_count": 9,
   "metadata": {},
   "outputs": [],
   "source": [
    "data_excess = data_minus_rf - data['RF'].values.reshape(-1,1)\n",
    "mu_excess = data_excess.mean()\n",
    "sigma_excess = data_excess.cov()\n",
    "RF = data['RF'].mean()"
   ]
  },
  {
   "cell_type": "code",
   "execution_count": 10,
   "metadata": {},
   "outputs": [],
   "source": [
    "RF = data['RF'].mean()\n",
    "mu_excess_target = 0.0075 - RF"
   ]
  },
  {
   "cell_type": "code",
   "execution_count": 11,
   "metadata": {},
   "outputs": [],
   "source": [
    "sigma_inv_excess = np.linalg.inv(sigma_excess)\n",
    "B = mu_excess.transpose() @ sigma_inv_excess @ mu_excess\n",
    "C = sigma_inv_excess @ mu_excess\n",
    "\n",
    "weights_ma_l = mu_excess_target * (C / B)"
   ]
  },
  {
   "cell_type": "code",
   "execution_count": 12,
   "metadata": {},
   "outputs": [
    {
     "name": "stdout",
     "output_type": "stream",
     "text": [
      "Markowitz (leveraged): Bonds 0.739 Stocks 0.523 Risk free -0.261\n",
      "Expected return: 0.0075\n",
      "std: 0.0269\n",
      "Risk free mean return: 0.0021\n"
     ]
    }
   ],
   "source": [
    "exp_return_ma_l = np.dot(weights_ma_l, mu_excess) + RF\n",
    "exp_excess_return_ma_l = np.dot(weights_ma_l, mu_excess)\n",
    "risk_ma_l = np.sqrt(weights_ma_l @ sigma_excess @ weights_ma_l)\n",
    "\n",
    "print('Markowitz (leveraged):', 'Bonds', weights_ma_l[1].round(3), 'Stocks', weights_ma_l[0].round(3), 'Risk free', (1-weights_ma_l.sum()).round(3))\n",
    "print('Expected return:', exp_return_ma_l.round(4))\n",
    "print('std:', risk_ma_l.round(4))\n",
    "print('Risk free mean return:', RF.round(4))"
   ]
  },
  {
   "cell_type": "markdown",
   "metadata": {},
   "source": [
    "Markowitz (leveraged - scipy optimization):"
   ]
  },
  {
   "cell_type": "code",
   "execution_count": 13,
   "metadata": {},
   "outputs": [
    {
     "name": "stdout",
     "output_type": "stream",
     "text": [
      "Markowitz (leveraged): [0.587 0.527]\n",
      "Expected excess return: 0.0077\n",
      "std: 0.0194\n"
     ]
    }
   ],
   "source": [
    "def objective_l(weights, sigma):\n",
    "    return 0.5 * weights @ sigma @ weights\n",
    "\n",
    "constraints_l = (\n",
    "    {'type': 'eq', 'fun': lambda weights: np.dot(weights, mu_excess) - mu_excess_target}#,\n",
    "    #{'type': 'ineq', 'fun': lambda weights: 1.5 - np.sum(weights)}  \n",
    ")\n",
    "initial_weights_l = np.array([0.3,0.3,0.2])\n",
    "bounds_l = [(0, None) for _ in range(len(initial_weights))]\n",
    "result_l = minimize(objective_l, initial_weights_l, args=(sigma_excess), method='SLSQP', bounds=bounds_l, constraints=constraints_l)\n",
    "\n",
    "print(\"Markowitz (leveraged):\", result_l.x.round(3))\n",
    "print(\"Expected excess return:\", np.dot(result_l.x, mu).round(4))\n",
    "print(\"std:\", np.sqrt(objective(result_l.x, sigma)).round(4))"
   ]
  },
  {
   "cell_type": "code",
   "execution_count": 14,
   "metadata": {},
   "outputs": [
    {
     "name": "stdout",
     "output_type": "stream",
     "text": [
      "Risk free: 0.0\n"
     ]
    }
   ],
   "source": [
    "weight_rf = 1 - np.sum(result.x)\n",
    "print('Risk free:', weight_rf.round(3))"
   ]
  },
  {
   "cell_type": "markdown",
   "metadata": {},
   "source": [
    "Test ---"
   ]
  },
  {
   "cell_type": "code",
   "execution_count": null,
   "metadata": {},
   "outputs": [],
   "source": [
    "mu_test = data.mean()\n",
    "sigma_test = data.cov()\n",
    "mu_target = 0.0075"
   ]
  },
  {
   "cell_type": "code",
   "execution_count": 34,
   "metadata": {},
   "outputs": [
    {
     "name": "stdout",
     "output_type": "stream",
     "text": [
      "Markowitz (leveraged): [0.656 0.3   0.044]\n",
      "Expected excess return: 0.0075\n",
      "std: 0.0207\n"
     ]
    }
   ],
   "source": [
    "def objective_test(weights, sigma):\n",
    "    return 0.5 * weights @ sigma @ weights\n",
    "\n",
    "constraints_test = (\n",
    "    {'type': 'eq', 'fun': lambda weights: np.dot(weights, mu_test) - mu_target},\n",
    "    {'type': 'eq', 'fun': lambda weights: 1 - np.sum(weights)}  \n",
    ")\n",
    "initial_weights_test = np.array([0.3,0.3,0.2])\n",
    "bounds_test = [(0, None) if i < 2 else (None, None) for i in range(len(initial_weights_test))]\n",
    "#bounds_test = [(0, None) for _ in range(len(initial_weights_test))]\n",
    "result_test = minimize(objective_test, initial_weights_test, args=(sigma_test), method='SLSQP', bounds=bounds_test, constraints=constraints_test)\n",
    "\n",
    "print(\"Markowitz (leveraged):\", result_test.x.round(3))\n",
    "print(\"Expected excess return:\", np.dot(result_test.x, mu_test).round(4))\n",
    "print(\"std:\", np.sqrt(objective_test(result_test.x, sigma_test)).round(4))"
   ]
  },
  {
   "cell_type": "markdown",
   "metadata": {},
   "source": [
    "Test ---"
   ]
  },
  {
   "cell_type": "markdown",
   "metadata": {},
   "source": [
    "Risk parity:"
   ]
  },
  {
   "cell_type": "code",
   "execution_count": 15,
   "metadata": {},
   "outputs": [],
   "source": [
    "def risk_parity_fun(w,sigma):\n",
    "    std = np.sqrt(w @ sigma @ w)\n",
    "    N  = len(w)\n",
    "    w_rp = std**2 / ((sigma @ w) * N)\n",
    "    objective_rp = np.sum((w - w_rp)**2)\n",
    "    \n",
    "    return objective_rp"
   ]
  },
  {
   "cell_type": "code",
   "execution_count": 16,
   "metadata": {},
   "outputs": [
    {
     "name": "stdout",
     "output_type": "stream",
     "text": [
      "Risk Parity Portfolio Weights: [0.157 0.329]\n",
      "Expected excess return: 0.0018\n",
      "std: 0.0067\n",
      "risk contribution per asset: 0.0067 0.0068\n"
     ]
    }
   ],
   "source": [
    "constraints_rp = ({\n",
    "    'type': 'ineq',\n",
    "    'fun': lambda weights: 1.5 - np.sum(weights)  # This should sum weights to exactly 1\n",
    "})\n",
    "\n",
    "\n",
    "bounds_rp = [(0, None) for _ in range(len(initial_weights))]\n",
    "\n",
    "initial_weights_rp = np.array([0.5, 0.5])\n",
    "result_rp = minimize(risk_parity_fun, initial_weights_rp, args=(sigma_excess), method='SLSQP', bounds=bounds_rp, constraints=constraints_rp)\n",
    "\n",
    "print(\"Risk Parity Portfolio Weights:\", result_rp.x.round(3))\n",
    "print(\"Expected excess return:\", np.dot(result_rp.x, mu_excess).round(4))\n",
    "print(\"std:\", np.sqrt(objective(result_rp.x, sigma_excess)).round(4))\n",
    "print(\"risk contribution per asset:\", ((result_rp.x[0] * (sigma @ result_rp.x).iloc[0])/np.sqrt(objective(result_rp.x, sigma))).round(4), \n",
    "      ((result_rp.x[1] * (sigma @ result_rp.x).iloc[1])/np.sqrt(objective(result_rp.x, sigma))).round(4))"
   ]
  },
  {
   "cell_type": "code",
   "execution_count": 17,
   "metadata": {},
   "outputs": [
    {
     "name": "stdout",
     "output_type": "stream",
     "text": [
      "Risk Parity Portfolio Weights (leveraged): [0.457 0.955]\n",
      "Expected return: 0.0075\n",
      "std: 0.0275\n",
      "Risk free weight: -0.411\n"
     ]
    }
   ],
   "source": [
    "k = mu_excess_target / (mu_excess @ result_rp.x)\n",
    "weights_rp = k * result_rp.x\n",
    "\n",
    "exp_return_rp = np.dot(weights_rp, mu_excess) + RF\n",
    "exp_excess_return_rp = np.dot(weights_rp, mu_excess)\n",
    "risk_rp = np.sqrt(weights_rp @ sigma_excess @ weights_rp)\n",
    "\n",
    "print('Risk Parity Portfolio Weights (leveraged):', weights_rp.round(3))\n",
    "print('Expected return:', exp_return_rp.round(4))\n",
    "print('std:', risk_rp.round(4))\n",
    "print('Risk free weight:', (1-weights_rp.sum()).round(3))"
   ]
  },
  {
   "cell_type": "code",
   "execution_count": 18,
   "metadata": {},
   "outputs": [],
   "source": [
    "plot_data = pd.DataFrame({\n",
    "    'Markowitz (unleveraged)': np.append(weights_ma_u[::-1], [0, exp_return_ma_u, risk_ma_u]),\n",
    "    'Markowitz (leveraged)': np.append(weights_ma_l, [1 - weights_ma_l.sum(), exp_return_ma_l, risk_ma_l]), \n",
    "    '60/40': np.append(weights_60_40[::-1], [0, exp_return_60_40, risk_60_40]),  \n",
    "    'Risk Parity': np.append(weights_rp,[1-weights_rp.sum(), exp_return_rp, risk_rp])  \n",
    "}, index=['Bonds', 'Stocks', 'RF', 'Expected Return', 'std'])  \n",
    "plot_data = plot_data.round(4)"
   ]
  },
  {
   "cell_type": "code",
   "execution_count": 19,
   "metadata": {},
   "outputs": [
    {
     "data": {
      "text/html": [
       "<div>\n",
       "<style scoped>\n",
       "    .dataframe tbody tr th:only-of-type {\n",
       "        vertical-align: middle;\n",
       "    }\n",
       "\n",
       "    .dataframe tbody tr th {\n",
       "        vertical-align: top;\n",
       "    }\n",
       "\n",
       "    .dataframe thead th {\n",
       "        text-align: right;\n",
       "    }\n",
       "</style>\n",
       "<table border=\"1\" class=\"dataframe\">\n",
       "  <thead>\n",
       "    <tr style=\"text-align: right;\">\n",
       "      <th></th>\n",
       "      <th>Markowitz (unleveraged)</th>\n",
       "      <th>Markowitz (leveraged)</th>\n",
       "      <th>60/40</th>\n",
       "      <th>Risk Parity</th>\n",
       "    </tr>\n",
       "  </thead>\n",
       "  <tbody>\n",
       "    <tr>\n",
       "      <th>Bonds</th>\n",
       "      <td>0.3629</td>\n",
       "      <td>0.5226</td>\n",
       "      <td>0.4000</td>\n",
       "      <td>0.4568</td>\n",
       "    </tr>\n",
       "    <tr>\n",
       "      <th>Stocks</th>\n",
       "      <td>0.6371</td>\n",
       "      <td>0.7388</td>\n",
       "      <td>0.6000</td>\n",
       "      <td>0.9546</td>\n",
       "    </tr>\n",
       "    <tr>\n",
       "      <th>RF</th>\n",
       "      <td>0.0000</td>\n",
       "      <td>-0.2614</td>\n",
       "      <td>0.0000</td>\n",
       "      <td>-0.4115</td>\n",
       "    </tr>\n",
       "    <tr>\n",
       "      <th>Expected Return</th>\n",
       "      <td>0.0075</td>\n",
       "      <td>0.0075</td>\n",
       "      <td>0.0073</td>\n",
       "      <td>0.0075</td>\n",
       "    </tr>\n",
       "    <tr>\n",
       "      <th>std</th>\n",
       "      <td>0.0286</td>\n",
       "      <td>0.0269</td>\n",
       "      <td>0.0193</td>\n",
       "      <td>0.0275</td>\n",
       "    </tr>\n",
       "  </tbody>\n",
       "</table>\n",
       "</div>"
      ],
      "text/plain": [
       "                 Markowitz (unleveraged)  Markowitz (leveraged)   60/40  \\\n",
       "Bonds                             0.3629                 0.5226  0.4000   \n",
       "Stocks                            0.6371                 0.7388  0.6000   \n",
       "RF                                0.0000                -0.2614  0.0000   \n",
       "Expected Return                   0.0075                 0.0075  0.0073   \n",
       "std                               0.0286                 0.0269  0.0193   \n",
       "\n",
       "                 Risk Parity  \n",
       "Bonds                 0.4568  \n",
       "Stocks                0.9546  \n",
       "RF                   -0.4115  \n",
       "Expected Return       0.0075  \n",
       "std                   0.0275  "
      ]
     },
     "execution_count": 19,
     "metadata": {},
     "output_type": "execute_result"
    }
   ],
   "source": [
    "plot_data"
   ]
  }
 ],
 "metadata": {
  "kernelspec": {
   "display_name": "Python 3",
   "language": "python",
   "name": "python3"
  },
  "language_info": {
   "codemirror_mode": {
    "name": "ipython",
    "version": 3
   },
   "file_extension": ".py",
   "mimetype": "text/x-python",
   "name": "python",
   "nbconvert_exporter": "python",
   "pygments_lexer": "ipython3",
   "version": "3.12.6"
  }
 },
 "nbformat": 4,
 "nbformat_minor": 2
}
